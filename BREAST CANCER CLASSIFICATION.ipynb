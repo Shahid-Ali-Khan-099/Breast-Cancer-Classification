{
 "cells": [
  {
   "cell_type": "markdown",
   "id": "b870d7e8",
   "metadata": {},
   "source": [
    "# BREAST CANCER CLASSIFICATION "
   ]
  },
  {
   "cell_type": "markdown",
   "id": "9ed50905",
   "metadata": {
    "_cell_guid": "b1076dfc-b9ad-4769-8c92-a6c4dae69d19",
    "_uuid": "8f2839f25d086af736a60e9eeb907d3b93b6e0e5",
    "papermill": {
     "duration": 0.026335,
     "end_time": "2024-05-09T13:57:24.249762",
     "exception": false,
     "start_time": "2024-05-09T13:57:24.223427",
     "status": "completed"
    },
    "tags": []
   },
   "source": [
    "# Import Necessary library"
   ]
  },
  {
   "cell_type": "code",
   "execution_count": 1,
   "id": "3da5b358",
   "metadata": {
    "execution": {
     "iopub.execute_input": "2024-05-09T13:57:24.305130Z",
     "iopub.status.busy": "2024-05-09T13:57:24.304709Z",
     "iopub.status.idle": "2024-05-09T13:57:27.924973Z",
     "shell.execute_reply": "2024-05-09T13:57:27.923767Z"
    },
    "papermill": {
     "duration": 3.650845,
     "end_time": "2024-05-09T13:57:27.927898",
     "exception": false,
     "start_time": "2024-05-09T13:57:24.277053",
     "status": "completed"
    },
    "tags": []
   },
   "outputs": [
    {
     "name": "stderr",
     "output_type": "stream",
     "text": [
      "/Users/shahidali/opt/anaconda3/lib/python3.9/site-packages/pandas/core/computation/expressions.py:21: UserWarning: Pandas requires version '2.8.4' or newer of 'numexpr' (version '2.8.1' currently installed).\n",
      "  from pandas.core.computation.check import NUMEXPR_INSTALLED\n",
      "/Users/shahidali/opt/anaconda3/lib/python3.9/site-packages/pandas/core/arrays/masked.py:60: UserWarning: Pandas requires version '1.3.6' or newer of 'bottleneck' (version '1.3.4' currently installed).\n",
      "  from pandas.core import (\n"
     ]
    }
   ],
   "source": [
    "import numpy as np\n",
    "import pandas as pd \n",
    "import matplotlib.pyplot as plt\n",
    "import seaborn as sns \n",
    "import plotly.express as px\n",
    "from plotly.offline import iplot, plot\n",
    "from sklearn.linear_model import LogisticRegression\n",
    "from sklearn.tree import DecisionTreeClassifier\n",
    "from sklearn.ensemble import RandomForestClassifier\n",
    "from sklearn.svm import SVC\n",
    "from xgboost import XGBClassifier\n",
    "from sklearn.model_selection import train_test_split\n",
    "from sklearn.preprocessing import LabelEncoder\n",
    "from sklearn.metrics import confusion_matrix\n",
    "from sklearn.metrics import classification_report \n",
    "from sklearn.preprocessing import StandardScaler"
   ]
  },
  {
   "cell_type": "markdown",
   "id": "7558524f",
   "metadata": {
    "papermill": {
     "duration": 0.025715,
     "end_time": "2024-05-09T13:57:27.979383",
     "exception": false,
     "start_time": "2024-05-09T13:57:27.953668",
     "status": "completed"
    },
    "tags": []
   },
   "source": [
    "# Reading the Data"
   ]
  },
  {
   "cell_type": "code",
   "execution_count": 2,
   "id": "c234903e",
   "metadata": {
    "execution": {
     "iopub.execute_input": "2024-05-09T13:57:28.033380Z",
     "iopub.status.busy": "2024-05-09T13:57:28.032761Z",
     "iopub.status.idle": "2024-05-09T13:57:28.061546Z",
     "shell.execute_reply": "2024-05-09T13:57:28.060435Z"
    },
    "papermill": {
     "duration": 0.058969,
     "end_time": "2024-05-09T13:57:28.064263",
     "exception": false,
     "start_time": "2024-05-09T13:57:28.005294",
     "status": "completed"
    },
    "tags": []
   },
   "outputs": [],
   "source": [
    "df = pd.read_csv('data.csv')"
   ]
  },
  {
   "cell_type": "markdown",
   "id": "f7e12fda",
   "metadata": {
    "papermill": {
     "duration": 0.025543,
     "end_time": "2024-05-09T13:57:28.167490",
     "exception": false,
     "start_time": "2024-05-09T13:57:28.141947",
     "status": "completed"
    },
    "tags": []
   },
   "source": [
    "# Explore the Data"
   ]
  },
  {
   "cell_type": "code",
   "execution_count": 3,
   "id": "745416fa",
   "metadata": {
    "execution": {
     "iopub.execute_input": "2024-05-09T13:57:28.221818Z",
     "iopub.status.busy": "2024-05-09T13:57:28.221397Z",
     "iopub.status.idle": "2024-05-09T13:57:28.230256Z",
     "shell.execute_reply": "2024-05-09T13:57:28.228844Z"
    },
    "papermill": {
     "duration": 0.039765,
     "end_time": "2024-05-09T13:57:28.233095",
     "exception": false,
     "start_time": "2024-05-09T13:57:28.193330",
     "status": "completed"
    },
    "tags": []
   },
   "outputs": [
    {
     "data": {
      "text/plain": [
       "(569, 33)"
      ]
     },
     "execution_count": 3,
     "metadata": {},
     "output_type": "execute_result"
    }
   ],
   "source": [
    "df.shape"
   ]
  },
  {
   "cell_type": "code",
   "execution_count": 4,
   "id": "bafdfacd",
   "metadata": {
    "execution": {
     "iopub.execute_input": "2024-05-09T13:57:28.287753Z",
     "iopub.status.busy": "2024-05-09T13:57:28.286735Z",
     "iopub.status.idle": "2024-05-09T13:57:28.330395Z",
     "shell.execute_reply": "2024-05-09T13:57:28.329240Z"
    },
    "papermill": {
     "duration": 0.073474,
     "end_time": "2024-05-09T13:57:28.332975",
     "exception": false,
     "start_time": "2024-05-09T13:57:28.259501",
     "status": "completed"
    },
    "tags": []
   },
   "outputs": [
    {
     "data": {
      "text/html": [
       "<div>\n",
       "<style scoped>\n",
       "    .dataframe tbody tr th:only-of-type {\n",
       "        vertical-align: middle;\n",
       "    }\n",
       "\n",
       "    .dataframe tbody tr th {\n",
       "        vertical-align: top;\n",
       "    }\n",
       "\n",
       "    .dataframe thead th {\n",
       "        text-align: right;\n",
       "    }\n",
       "</style>\n",
       "<table border=\"1\" class=\"dataframe\">\n",
       "  <thead>\n",
       "    <tr style=\"text-align: right;\">\n",
       "      <th></th>\n",
       "      <th>id</th>\n",
       "      <th>diagnosis</th>\n",
       "      <th>radius_mean</th>\n",
       "      <th>texture_mean</th>\n",
       "      <th>perimeter_mean</th>\n",
       "      <th>area_mean</th>\n",
       "      <th>smoothness_mean</th>\n",
       "      <th>compactness_mean</th>\n",
       "      <th>concavity_mean</th>\n",
       "      <th>concave points_mean</th>\n",
       "      <th>...</th>\n",
       "      <th>texture_worst</th>\n",
       "      <th>perimeter_worst</th>\n",
       "      <th>area_worst</th>\n",
       "      <th>smoothness_worst</th>\n",
       "      <th>compactness_worst</th>\n",
       "      <th>concavity_worst</th>\n",
       "      <th>concave points_worst</th>\n",
       "      <th>symmetry_worst</th>\n",
       "      <th>fractal_dimension_worst</th>\n",
       "      <th>Unnamed: 32</th>\n",
       "    </tr>\n",
       "  </thead>\n",
       "  <tbody>\n",
       "    <tr>\n",
       "      <th>0</th>\n",
       "      <td>842302</td>\n",
       "      <td>M</td>\n",
       "      <td>17.99</td>\n",
       "      <td>10.38</td>\n",
       "      <td>122.80</td>\n",
       "      <td>1001.0</td>\n",
       "      <td>0.11840</td>\n",
       "      <td>0.27760</td>\n",
       "      <td>0.3001</td>\n",
       "      <td>0.14710</td>\n",
       "      <td>...</td>\n",
       "      <td>17.33</td>\n",
       "      <td>184.60</td>\n",
       "      <td>2019.0</td>\n",
       "      <td>0.1622</td>\n",
       "      <td>0.6656</td>\n",
       "      <td>0.7119</td>\n",
       "      <td>0.2654</td>\n",
       "      <td>0.4601</td>\n",
       "      <td>0.11890</td>\n",
       "      <td>NaN</td>\n",
       "    </tr>\n",
       "    <tr>\n",
       "      <th>1</th>\n",
       "      <td>842517</td>\n",
       "      <td>M</td>\n",
       "      <td>20.57</td>\n",
       "      <td>17.77</td>\n",
       "      <td>132.90</td>\n",
       "      <td>1326.0</td>\n",
       "      <td>0.08474</td>\n",
       "      <td>0.07864</td>\n",
       "      <td>0.0869</td>\n",
       "      <td>0.07017</td>\n",
       "      <td>...</td>\n",
       "      <td>23.41</td>\n",
       "      <td>158.80</td>\n",
       "      <td>1956.0</td>\n",
       "      <td>0.1238</td>\n",
       "      <td>0.1866</td>\n",
       "      <td>0.2416</td>\n",
       "      <td>0.1860</td>\n",
       "      <td>0.2750</td>\n",
       "      <td>0.08902</td>\n",
       "      <td>NaN</td>\n",
       "    </tr>\n",
       "    <tr>\n",
       "      <th>2</th>\n",
       "      <td>84300903</td>\n",
       "      <td>M</td>\n",
       "      <td>19.69</td>\n",
       "      <td>21.25</td>\n",
       "      <td>130.00</td>\n",
       "      <td>1203.0</td>\n",
       "      <td>0.10960</td>\n",
       "      <td>0.15990</td>\n",
       "      <td>0.1974</td>\n",
       "      <td>0.12790</td>\n",
       "      <td>...</td>\n",
       "      <td>25.53</td>\n",
       "      <td>152.50</td>\n",
       "      <td>1709.0</td>\n",
       "      <td>0.1444</td>\n",
       "      <td>0.4245</td>\n",
       "      <td>0.4504</td>\n",
       "      <td>0.2430</td>\n",
       "      <td>0.3613</td>\n",
       "      <td>0.08758</td>\n",
       "      <td>NaN</td>\n",
       "    </tr>\n",
       "    <tr>\n",
       "      <th>3</th>\n",
       "      <td>84348301</td>\n",
       "      <td>M</td>\n",
       "      <td>11.42</td>\n",
       "      <td>20.38</td>\n",
       "      <td>77.58</td>\n",
       "      <td>386.1</td>\n",
       "      <td>0.14250</td>\n",
       "      <td>0.28390</td>\n",
       "      <td>0.2414</td>\n",
       "      <td>0.10520</td>\n",
       "      <td>...</td>\n",
       "      <td>26.50</td>\n",
       "      <td>98.87</td>\n",
       "      <td>567.7</td>\n",
       "      <td>0.2098</td>\n",
       "      <td>0.8663</td>\n",
       "      <td>0.6869</td>\n",
       "      <td>0.2575</td>\n",
       "      <td>0.6638</td>\n",
       "      <td>0.17300</td>\n",
       "      <td>NaN</td>\n",
       "    </tr>\n",
       "    <tr>\n",
       "      <th>4</th>\n",
       "      <td>84358402</td>\n",
       "      <td>M</td>\n",
       "      <td>20.29</td>\n",
       "      <td>14.34</td>\n",
       "      <td>135.10</td>\n",
       "      <td>1297.0</td>\n",
       "      <td>0.10030</td>\n",
       "      <td>0.13280</td>\n",
       "      <td>0.1980</td>\n",
       "      <td>0.10430</td>\n",
       "      <td>...</td>\n",
       "      <td>16.67</td>\n",
       "      <td>152.20</td>\n",
       "      <td>1575.0</td>\n",
       "      <td>0.1374</td>\n",
       "      <td>0.2050</td>\n",
       "      <td>0.4000</td>\n",
       "      <td>0.1625</td>\n",
       "      <td>0.2364</td>\n",
       "      <td>0.07678</td>\n",
       "      <td>NaN</td>\n",
       "    </tr>\n",
       "  </tbody>\n",
       "</table>\n",
       "<p>5 rows × 33 columns</p>\n",
       "</div>"
      ],
      "text/plain": [
       "         id diagnosis  radius_mean  texture_mean  perimeter_mean  area_mean  \\\n",
       "0    842302         M        17.99         10.38          122.80     1001.0   \n",
       "1    842517         M        20.57         17.77          132.90     1326.0   \n",
       "2  84300903         M        19.69         21.25          130.00     1203.0   \n",
       "3  84348301         M        11.42         20.38           77.58      386.1   \n",
       "4  84358402         M        20.29         14.34          135.10     1297.0   \n",
       "\n",
       "   smoothness_mean  compactness_mean  concavity_mean  concave points_mean  \\\n",
       "0          0.11840           0.27760          0.3001              0.14710   \n",
       "1          0.08474           0.07864          0.0869              0.07017   \n",
       "2          0.10960           0.15990          0.1974              0.12790   \n",
       "3          0.14250           0.28390          0.2414              0.10520   \n",
       "4          0.10030           0.13280          0.1980              0.10430   \n",
       "\n",
       "   ...  texture_worst  perimeter_worst  area_worst  smoothness_worst  \\\n",
       "0  ...          17.33           184.60      2019.0            0.1622   \n",
       "1  ...          23.41           158.80      1956.0            0.1238   \n",
       "2  ...          25.53           152.50      1709.0            0.1444   \n",
       "3  ...          26.50            98.87       567.7            0.2098   \n",
       "4  ...          16.67           152.20      1575.0            0.1374   \n",
       "\n",
       "   compactness_worst  concavity_worst  concave points_worst  symmetry_worst  \\\n",
       "0             0.6656           0.7119                0.2654          0.4601   \n",
       "1             0.1866           0.2416                0.1860          0.2750   \n",
       "2             0.4245           0.4504                0.2430          0.3613   \n",
       "3             0.8663           0.6869                0.2575          0.6638   \n",
       "4             0.2050           0.4000                0.1625          0.2364   \n",
       "\n",
       "   fractal_dimension_worst  Unnamed: 32  \n",
       "0                  0.11890          NaN  \n",
       "1                  0.08902          NaN  \n",
       "2                  0.08758          NaN  \n",
       "3                  0.17300          NaN  \n",
       "4                  0.07678          NaN  \n",
       "\n",
       "[5 rows x 33 columns]"
      ]
     },
     "execution_count": 4,
     "metadata": {},
     "output_type": "execute_result"
    }
   ],
   "source": [
    "df.head()"
   ]
  },
  {
   "cell_type": "code",
   "execution_count": 5,
   "id": "fe239c56",
   "metadata": {
    "execution": {
     "iopub.execute_input": "2024-05-09T13:57:28.388806Z",
     "iopub.status.busy": "2024-05-09T13:57:28.387991Z",
     "iopub.status.idle": "2024-05-09T13:57:28.395630Z",
     "shell.execute_reply": "2024-05-09T13:57:28.394482Z"
    },
    "papermill": {
     "duration": 0.038373,
     "end_time": "2024-05-09T13:57:28.398194",
     "exception": false,
     "start_time": "2024-05-09T13:57:28.359821",
     "status": "completed"
    },
    "tags": []
   },
   "outputs": [
    {
     "data": {
      "text/plain": [
       "Index(['id', 'diagnosis', 'radius_mean', 'texture_mean', 'perimeter_mean',\n",
       "       'area_mean', 'smoothness_mean', 'compactness_mean', 'concavity_mean',\n",
       "       'concave points_mean', 'symmetry_mean', 'fractal_dimension_mean',\n",
       "       'radius_se', 'texture_se', 'perimeter_se', 'area_se', 'smoothness_se',\n",
       "       'compactness_se', 'concavity_se', 'concave points_se', 'symmetry_se',\n",
       "       'fractal_dimension_se', 'radius_worst', 'texture_worst',\n",
       "       'perimeter_worst', 'area_worst', 'smoothness_worst',\n",
       "       'compactness_worst', 'concavity_worst', 'concave points_worst',\n",
       "       'symmetry_worst', 'fractal_dimension_worst', 'Unnamed: 32'],\n",
       "      dtype='object')"
      ]
     },
     "execution_count": 5,
     "metadata": {},
     "output_type": "execute_result"
    }
   ],
   "source": [
    "df.columns"
   ]
  },
  {
   "cell_type": "code",
   "execution_count": 6,
   "id": "f77c0aa8",
   "metadata": {
    "execution": {
     "iopub.execute_input": "2024-05-09T13:57:28.453779Z",
     "iopub.status.busy": "2024-05-09T13:57:28.453377Z",
     "iopub.status.idle": "2024-05-09T13:57:28.477425Z",
     "shell.execute_reply": "2024-05-09T13:57:28.476175Z"
    },
    "papermill": {
     "duration": 0.055479,
     "end_time": "2024-05-09T13:57:28.480390",
     "exception": false,
     "start_time": "2024-05-09T13:57:28.424911",
     "status": "completed"
    },
    "tags": []
   },
   "outputs": [
    {
     "name": "stdout",
     "output_type": "stream",
     "text": [
      "<class 'pandas.core.frame.DataFrame'>\n",
      "RangeIndex: 569 entries, 0 to 568\n",
      "Data columns (total 33 columns):\n",
      " #   Column                   Non-Null Count  Dtype  \n",
      "---  ------                   --------------  -----  \n",
      " 0   id                       569 non-null    int64  \n",
      " 1   diagnosis                569 non-null    object \n",
      " 2   radius_mean              569 non-null    float64\n",
      " 3   texture_mean             569 non-null    float64\n",
      " 4   perimeter_mean           569 non-null    float64\n",
      " 5   area_mean                569 non-null    float64\n",
      " 6   smoothness_mean          569 non-null    float64\n",
      " 7   compactness_mean         569 non-null    float64\n",
      " 8   concavity_mean           569 non-null    float64\n",
      " 9   concave points_mean      569 non-null    float64\n",
      " 10  symmetry_mean            569 non-null    float64\n",
      " 11  fractal_dimension_mean   569 non-null    float64\n",
      " 12  radius_se                569 non-null    float64\n",
      " 13  texture_se               569 non-null    float64\n",
      " 14  perimeter_se             569 non-null    float64\n",
      " 15  area_se                  569 non-null    float64\n",
      " 16  smoothness_se            569 non-null    float64\n",
      " 17  compactness_se           569 non-null    float64\n",
      " 18  concavity_se             569 non-null    float64\n",
      " 19  concave points_se        569 non-null    float64\n",
      " 20  symmetry_se              569 non-null    float64\n",
      " 21  fractal_dimension_se     569 non-null    float64\n",
      " 22  radius_worst             569 non-null    float64\n",
      " 23  texture_worst            569 non-null    float64\n",
      " 24  perimeter_worst          569 non-null    float64\n",
      " 25  area_worst               569 non-null    float64\n",
      " 26  smoothness_worst         569 non-null    float64\n",
      " 27  compactness_worst        569 non-null    float64\n",
      " 28  concavity_worst          569 non-null    float64\n",
      " 29  concave points_worst     569 non-null    float64\n",
      " 30  symmetry_worst           569 non-null    float64\n",
      " 31  fractal_dimension_worst  569 non-null    float64\n",
      " 32  Unnamed: 32              0 non-null      float64\n",
      "dtypes: float64(31), int64(1), object(1)\n",
      "memory usage: 146.8+ KB\n"
     ]
    }
   ],
   "source": [
    "df.info()"
   ]
  },
  {
   "cell_type": "code",
   "execution_count": 7,
   "id": "4274b9ae",
   "metadata": {
    "execution": {
     "iopub.execute_input": "2024-05-09T13:57:28.596290Z",
     "iopub.status.busy": "2024-05-09T13:57:28.595849Z",
     "iopub.status.idle": "2024-05-09T13:57:28.605734Z",
     "shell.execute_reply": "2024-05-09T13:57:28.604590Z"
    },
    "papermill": {
     "duration": 0.100936,
     "end_time": "2024-05-09T13:57:28.608256",
     "exception": false,
     "start_time": "2024-05-09T13:57:28.507320",
     "status": "completed"
    },
    "tags": []
   },
   "outputs": [
    {
     "data": {
      "text/plain": [
       "id                           0\n",
       "diagnosis                    0\n",
       "radius_mean                  0\n",
       "texture_mean                 0\n",
       "perimeter_mean               0\n",
       "area_mean                    0\n",
       "smoothness_mean              0\n",
       "compactness_mean             0\n",
       "concavity_mean               0\n",
       "concave points_mean          0\n",
       "symmetry_mean                0\n",
       "fractal_dimension_mean       0\n",
       "radius_se                    0\n",
       "texture_se                   0\n",
       "perimeter_se                 0\n",
       "area_se                      0\n",
       "smoothness_se                0\n",
       "compactness_se               0\n",
       "concavity_se                 0\n",
       "concave points_se            0\n",
       "symmetry_se                  0\n",
       "fractal_dimension_se         0\n",
       "radius_worst                 0\n",
       "texture_worst                0\n",
       "perimeter_worst              0\n",
       "area_worst                   0\n",
       "smoothness_worst             0\n",
       "compactness_worst            0\n",
       "concavity_worst              0\n",
       "concave points_worst         0\n",
       "symmetry_worst               0\n",
       "fractal_dimension_worst      0\n",
       "Unnamed: 32                569\n",
       "dtype: int64"
      ]
     },
     "execution_count": 7,
     "metadata": {},
     "output_type": "execute_result"
    }
   ],
   "source": [
    "df.isnull().sum()"
   ]
  },
  {
   "cell_type": "code",
   "execution_count": 8,
   "id": "628378d5",
   "metadata": {
    "execution": {
     "iopub.execute_input": "2024-05-09T13:57:28.664882Z",
     "iopub.status.busy": "2024-05-09T13:57:28.664472Z",
     "iopub.status.idle": "2024-05-09T13:57:28.674608Z",
     "shell.execute_reply": "2024-05-09T13:57:28.673425Z"
    },
    "papermill": {
     "duration": 0.041541,
     "end_time": "2024-05-09T13:57:28.677117",
     "exception": false,
     "start_time": "2024-05-09T13:57:28.635576",
     "status": "completed"
    },
    "tags": []
   },
   "outputs": [
    {
     "data": {
      "text/plain": [
       "id                           0\n",
       "diagnosis                    0\n",
       "radius_mean                  0\n",
       "texture_mean                 0\n",
       "perimeter_mean               0\n",
       "area_mean                    0\n",
       "smoothness_mean              0\n",
       "compactness_mean             0\n",
       "concavity_mean               0\n",
       "concave points_mean          0\n",
       "symmetry_mean                0\n",
       "fractal_dimension_mean       0\n",
       "radius_se                    0\n",
       "texture_se                   0\n",
       "perimeter_se                 0\n",
       "area_se                      0\n",
       "smoothness_se                0\n",
       "compactness_se               0\n",
       "concavity_se                 0\n",
       "concave points_se            0\n",
       "symmetry_se                  0\n",
       "fractal_dimension_se         0\n",
       "radius_worst                 0\n",
       "texture_worst                0\n",
       "perimeter_worst              0\n",
       "area_worst                   0\n",
       "smoothness_worst             0\n",
       "compactness_worst            0\n",
       "concavity_worst              0\n",
       "concave points_worst         0\n",
       "symmetry_worst               0\n",
       "fractal_dimension_worst      0\n",
       "Unnamed: 32                569\n",
       "dtype: int64"
      ]
     },
     "execution_count": 8,
     "metadata": {},
     "output_type": "execute_result"
    }
   ],
   "source": [
    "df.isna().sum()"
   ]
  },
  {
   "cell_type": "code",
   "execution_count": 9,
   "id": "dd5b35c1",
   "metadata": {
    "execution": {
     "iopub.execute_input": "2024-05-09T13:57:28.734866Z",
     "iopub.status.busy": "2024-05-09T13:57:28.734464Z",
     "iopub.status.idle": "2024-05-09T13:57:28.747423Z",
     "shell.execute_reply": "2024-05-09T13:57:28.746257Z"
    },
    "papermill": {
     "duration": 0.044158,
     "end_time": "2024-05-09T13:57:28.749934",
     "exception": false,
     "start_time": "2024-05-09T13:57:28.705776",
     "status": "completed"
    },
    "tags": []
   },
   "outputs": [
    {
     "data": {
      "text/plain": [
       "0"
      ]
     },
     "execution_count": 9,
     "metadata": {},
     "output_type": "execute_result"
    }
   ],
   "source": [
    "df.duplicated().sum()"
   ]
  },
  {
   "cell_type": "markdown",
   "id": "19ed5bb8",
   "metadata": {
    "papermill": {
     "duration": 0.028516,
     "end_time": "2024-05-09T13:57:28.806165",
     "exception": false,
     "start_time": "2024-05-09T13:57:28.777649",
     "status": "completed"
    },
    "tags": []
   },
   "source": [
    " # Cleaning the Data"
   ]
  },
  {
   "cell_type": "code",
   "execution_count": 10,
   "id": "0c1eec93",
   "metadata": {
    "execution": {
     "iopub.execute_input": "2024-05-09T13:57:28.863788Z",
     "iopub.status.busy": "2024-05-09T13:57:28.863350Z",
     "iopub.status.idle": "2024-05-09T13:57:28.895304Z",
     "shell.execute_reply": "2024-05-09T13:57:28.894174Z"
    },
    "papermill": {
     "duration": 0.063962,
     "end_time": "2024-05-09T13:57:28.898081",
     "exception": false,
     "start_time": "2024-05-09T13:57:28.834119",
     "status": "completed"
    },
    "tags": []
   },
   "outputs": [
    {
     "data": {
      "text/html": [
       "<div>\n",
       "<style scoped>\n",
       "    .dataframe tbody tr th:only-of-type {\n",
       "        vertical-align: middle;\n",
       "    }\n",
       "\n",
       "    .dataframe tbody tr th {\n",
       "        vertical-align: top;\n",
       "    }\n",
       "\n",
       "    .dataframe thead th {\n",
       "        text-align: right;\n",
       "    }\n",
       "</style>\n",
       "<table border=\"1\" class=\"dataframe\">\n",
       "  <thead>\n",
       "    <tr style=\"text-align: right;\">\n",
       "      <th></th>\n",
       "      <th>id</th>\n",
       "      <th>diagnosis</th>\n",
       "      <th>radius_mean</th>\n",
       "      <th>texture_mean</th>\n",
       "      <th>perimeter_mean</th>\n",
       "      <th>area_mean</th>\n",
       "      <th>smoothness_mean</th>\n",
       "      <th>compactness_mean</th>\n",
       "      <th>concavity_mean</th>\n",
       "      <th>concave points_mean</th>\n",
       "      <th>...</th>\n",
       "      <th>texture_worst</th>\n",
       "      <th>perimeter_worst</th>\n",
       "      <th>area_worst</th>\n",
       "      <th>smoothness_worst</th>\n",
       "      <th>compactness_worst</th>\n",
       "      <th>concavity_worst</th>\n",
       "      <th>concave points_worst</th>\n",
       "      <th>symmetry_worst</th>\n",
       "      <th>fractal_dimension_worst</th>\n",
       "      <th>Unnamed: 32</th>\n",
       "    </tr>\n",
       "  </thead>\n",
       "  <tbody>\n",
       "    <tr>\n",
       "      <th>0</th>\n",
       "      <td>842302</td>\n",
       "      <td>M</td>\n",
       "      <td>17.99</td>\n",
       "      <td>10.38</td>\n",
       "      <td>122.80</td>\n",
       "      <td>1001.0</td>\n",
       "      <td>0.11840</td>\n",
       "      <td>0.27760</td>\n",
       "      <td>0.3001</td>\n",
       "      <td>0.14710</td>\n",
       "      <td>...</td>\n",
       "      <td>17.33</td>\n",
       "      <td>184.60</td>\n",
       "      <td>2019.0</td>\n",
       "      <td>0.1622</td>\n",
       "      <td>0.6656</td>\n",
       "      <td>0.7119</td>\n",
       "      <td>0.2654</td>\n",
       "      <td>0.4601</td>\n",
       "      <td>0.11890</td>\n",
       "      <td>NaN</td>\n",
       "    </tr>\n",
       "    <tr>\n",
       "      <th>1</th>\n",
       "      <td>842517</td>\n",
       "      <td>M</td>\n",
       "      <td>20.57</td>\n",
       "      <td>17.77</td>\n",
       "      <td>132.90</td>\n",
       "      <td>1326.0</td>\n",
       "      <td>0.08474</td>\n",
       "      <td>0.07864</td>\n",
       "      <td>0.0869</td>\n",
       "      <td>0.07017</td>\n",
       "      <td>...</td>\n",
       "      <td>23.41</td>\n",
       "      <td>158.80</td>\n",
       "      <td>1956.0</td>\n",
       "      <td>0.1238</td>\n",
       "      <td>0.1866</td>\n",
       "      <td>0.2416</td>\n",
       "      <td>0.1860</td>\n",
       "      <td>0.2750</td>\n",
       "      <td>0.08902</td>\n",
       "      <td>NaN</td>\n",
       "    </tr>\n",
       "    <tr>\n",
       "      <th>2</th>\n",
       "      <td>84300903</td>\n",
       "      <td>M</td>\n",
       "      <td>19.69</td>\n",
       "      <td>21.25</td>\n",
       "      <td>130.00</td>\n",
       "      <td>1203.0</td>\n",
       "      <td>0.10960</td>\n",
       "      <td>0.15990</td>\n",
       "      <td>0.1974</td>\n",
       "      <td>0.12790</td>\n",
       "      <td>...</td>\n",
       "      <td>25.53</td>\n",
       "      <td>152.50</td>\n",
       "      <td>1709.0</td>\n",
       "      <td>0.1444</td>\n",
       "      <td>0.4245</td>\n",
       "      <td>0.4504</td>\n",
       "      <td>0.2430</td>\n",
       "      <td>0.3613</td>\n",
       "      <td>0.08758</td>\n",
       "      <td>NaN</td>\n",
       "    </tr>\n",
       "    <tr>\n",
       "      <th>3</th>\n",
       "      <td>84348301</td>\n",
       "      <td>M</td>\n",
       "      <td>11.42</td>\n",
       "      <td>20.38</td>\n",
       "      <td>77.58</td>\n",
       "      <td>386.1</td>\n",
       "      <td>0.14250</td>\n",
       "      <td>0.28390</td>\n",
       "      <td>0.2414</td>\n",
       "      <td>0.10520</td>\n",
       "      <td>...</td>\n",
       "      <td>26.50</td>\n",
       "      <td>98.87</td>\n",
       "      <td>567.7</td>\n",
       "      <td>0.2098</td>\n",
       "      <td>0.8663</td>\n",
       "      <td>0.6869</td>\n",
       "      <td>0.2575</td>\n",
       "      <td>0.6638</td>\n",
       "      <td>0.17300</td>\n",
       "      <td>NaN</td>\n",
       "    </tr>\n",
       "    <tr>\n",
       "      <th>4</th>\n",
       "      <td>84358402</td>\n",
       "      <td>M</td>\n",
       "      <td>20.29</td>\n",
       "      <td>14.34</td>\n",
       "      <td>135.10</td>\n",
       "      <td>1297.0</td>\n",
       "      <td>0.10030</td>\n",
       "      <td>0.13280</td>\n",
       "      <td>0.1980</td>\n",
       "      <td>0.10430</td>\n",
       "      <td>...</td>\n",
       "      <td>16.67</td>\n",
       "      <td>152.20</td>\n",
       "      <td>1575.0</td>\n",
       "      <td>0.1374</td>\n",
       "      <td>0.2050</td>\n",
       "      <td>0.4000</td>\n",
       "      <td>0.1625</td>\n",
       "      <td>0.2364</td>\n",
       "      <td>0.07678</td>\n",
       "      <td>NaN</td>\n",
       "    </tr>\n",
       "  </tbody>\n",
       "</table>\n",
       "<p>5 rows × 33 columns</p>\n",
       "</div>"
      ],
      "text/plain": [
       "         id diagnosis  radius_mean  texture_mean  perimeter_mean  area_mean  \\\n",
       "0    842302         M        17.99         10.38          122.80     1001.0   \n",
       "1    842517         M        20.57         17.77          132.90     1326.0   \n",
       "2  84300903         M        19.69         21.25          130.00     1203.0   \n",
       "3  84348301         M        11.42         20.38           77.58      386.1   \n",
       "4  84358402         M        20.29         14.34          135.10     1297.0   \n",
       "\n",
       "   smoothness_mean  compactness_mean  concavity_mean  concave points_mean  \\\n",
       "0          0.11840           0.27760          0.3001              0.14710   \n",
       "1          0.08474           0.07864          0.0869              0.07017   \n",
       "2          0.10960           0.15990          0.1974              0.12790   \n",
       "3          0.14250           0.28390          0.2414              0.10520   \n",
       "4          0.10030           0.13280          0.1980              0.10430   \n",
       "\n",
       "   ...  texture_worst  perimeter_worst  area_worst  smoothness_worst  \\\n",
       "0  ...          17.33           184.60      2019.0            0.1622   \n",
       "1  ...          23.41           158.80      1956.0            0.1238   \n",
       "2  ...          25.53           152.50      1709.0            0.1444   \n",
       "3  ...          26.50            98.87       567.7            0.2098   \n",
       "4  ...          16.67           152.20      1575.0            0.1374   \n",
       "\n",
       "   compactness_worst  concavity_worst  concave points_worst  symmetry_worst  \\\n",
       "0             0.6656           0.7119                0.2654          0.4601   \n",
       "1             0.1866           0.2416                0.1860          0.2750   \n",
       "2             0.4245           0.4504                0.2430          0.3613   \n",
       "3             0.8663           0.6869                0.2575          0.6638   \n",
       "4             0.2050           0.4000                0.1625          0.2364   \n",
       "\n",
       "   fractal_dimension_worst  Unnamed: 32  \n",
       "0                  0.11890          NaN  \n",
       "1                  0.08902          NaN  \n",
       "2                  0.08758          NaN  \n",
       "3                  0.17300          NaN  \n",
       "4                  0.07678          NaN  \n",
       "\n",
       "[5 rows x 33 columns]"
      ]
     },
     "execution_count": 10,
     "metadata": {},
     "output_type": "execute_result"
    }
   ],
   "source": [
    "df.head()"
   ]
  },
  {
   "cell_type": "markdown",
   "id": "bb3e8270",
   "metadata": {
    "papermill": {
     "duration": 0.028728,
     "end_time": "2024-05-09T13:57:28.955180",
     "exception": false,
     "start_time": "2024-05-09T13:57:28.926452",
     "status": "completed"
    },
    "tags": []
   },
   "source": [
    "**i will drop id and unknown columns from data**"
   ]
  },
  {
   "cell_type": "code",
   "execution_count": 11,
   "id": "6b0b841e",
   "metadata": {
    "execution": {
     "iopub.execute_input": "2024-05-09T13:57:29.012773Z",
     "iopub.status.busy": "2024-05-09T13:57:29.012375Z",
     "iopub.status.idle": "2024-05-09T13:57:29.018967Z",
     "shell.execute_reply": "2024-05-09T13:57:29.017829Z"
    },
    "papermill": {
     "duration": 0.038457,
     "end_time": "2024-05-09T13:57:29.021433",
     "exception": false,
     "start_time": "2024-05-09T13:57:28.982976",
     "status": "completed"
    },
    "tags": []
   },
   "outputs": [],
   "source": [
    "df.drop(columns=['id','Unnamed: 32'],inplace=True)"
   ]
  },
  {
   "cell_type": "code",
   "execution_count": 12,
   "id": "80015ae5",
   "metadata": {
    "execution": {
     "iopub.execute_input": "2024-05-09T13:57:29.079721Z",
     "iopub.status.busy": "2024-05-09T13:57:29.079328Z",
     "iopub.status.idle": "2024-05-09T13:57:29.093797Z",
     "shell.execute_reply": "2024-05-09T13:57:29.092490Z"
    },
    "papermill": {
     "duration": 0.047299,
     "end_time": "2024-05-09T13:57:29.096983",
     "exception": false,
     "start_time": "2024-05-09T13:57:29.049684",
     "status": "completed"
    },
    "tags": []
   },
   "outputs": [
    {
     "name": "stdout",
     "output_type": "stream",
     "text": [
      "<class 'pandas.core.frame.DataFrame'>\n",
      "RangeIndex: 569 entries, 0 to 568\n",
      "Data columns (total 31 columns):\n",
      " #   Column                   Non-Null Count  Dtype  \n",
      "---  ------                   --------------  -----  \n",
      " 0   diagnosis                569 non-null    object \n",
      " 1   radius_mean              569 non-null    float64\n",
      " 2   texture_mean             569 non-null    float64\n",
      " 3   perimeter_mean           569 non-null    float64\n",
      " 4   area_mean                569 non-null    float64\n",
      " 5   smoothness_mean          569 non-null    float64\n",
      " 6   compactness_mean         569 non-null    float64\n",
      " 7   concavity_mean           569 non-null    float64\n",
      " 8   concave points_mean      569 non-null    float64\n",
      " 9   symmetry_mean            569 non-null    float64\n",
      " 10  fractal_dimension_mean   569 non-null    float64\n",
      " 11  radius_se                569 non-null    float64\n",
      " 12  texture_se               569 non-null    float64\n",
      " 13  perimeter_se             569 non-null    float64\n",
      " 14  area_se                  569 non-null    float64\n",
      " 15  smoothness_se            569 non-null    float64\n",
      " 16  compactness_se           569 non-null    float64\n",
      " 17  concavity_se             569 non-null    float64\n",
      " 18  concave points_se        569 non-null    float64\n",
      " 19  symmetry_se              569 non-null    float64\n",
      " 20  fractal_dimension_se     569 non-null    float64\n",
      " 21  radius_worst             569 non-null    float64\n",
      " 22  texture_worst            569 non-null    float64\n",
      " 23  perimeter_worst          569 non-null    float64\n",
      " 24  area_worst               569 non-null    float64\n",
      " 25  smoothness_worst         569 non-null    float64\n",
      " 26  compactness_worst        569 non-null    float64\n",
      " 27  concavity_worst          569 non-null    float64\n",
      " 28  concave points_worst     569 non-null    float64\n",
      " 29  symmetry_worst           569 non-null    float64\n",
      " 30  fractal_dimension_worst  569 non-null    float64\n",
      "dtypes: float64(30), object(1)\n",
      "memory usage: 137.9+ KB\n"
     ]
    }
   ],
   "source": [
    "df.info()"
   ]
  },
  {
   "cell_type": "markdown",
   "id": "ec41a611",
   "metadata": {
    "papermill": {
     "duration": 0.027864,
     "end_time": "2024-05-09T13:57:29.152861",
     "exception": false,
     "start_time": "2024-05-09T13:57:29.124997",
     "status": "completed"
    },
    "tags": []
   },
   "source": [
    "# Analysis and Visualization"
   ]
  },
  {
   "cell_type": "code",
   "execution_count": 13,
   "id": "efb3f667",
   "metadata": {
    "execution": {
     "iopub.execute_input": "2024-05-09T13:57:29.213535Z",
     "iopub.status.busy": "2024-05-09T13:57:29.213081Z",
     "iopub.status.idle": "2024-05-09T13:57:29.245104Z",
     "shell.execute_reply": "2024-05-09T13:57:29.243992Z"
    },
    "papermill": {
     "duration": 0.066097,
     "end_time": "2024-05-09T13:57:29.247840",
     "exception": false,
     "start_time": "2024-05-09T13:57:29.181743",
     "status": "completed"
    },
    "tags": []
   },
   "outputs": [
    {
     "data": {
      "text/html": [
       "<div>\n",
       "<style scoped>\n",
       "    .dataframe tbody tr th:only-of-type {\n",
       "        vertical-align: middle;\n",
       "    }\n",
       "\n",
       "    .dataframe tbody tr th {\n",
       "        vertical-align: top;\n",
       "    }\n",
       "\n",
       "    .dataframe thead th {\n",
       "        text-align: right;\n",
       "    }\n",
       "</style>\n",
       "<table border=\"1\" class=\"dataframe\">\n",
       "  <thead>\n",
       "    <tr style=\"text-align: right;\">\n",
       "      <th></th>\n",
       "      <th>diagnosis</th>\n",
       "      <th>radius_mean</th>\n",
       "      <th>texture_mean</th>\n",
       "      <th>perimeter_mean</th>\n",
       "      <th>area_mean</th>\n",
       "      <th>smoothness_mean</th>\n",
       "      <th>compactness_mean</th>\n",
       "      <th>concavity_mean</th>\n",
       "      <th>concave points_mean</th>\n",
       "      <th>symmetry_mean</th>\n",
       "      <th>...</th>\n",
       "      <th>radius_worst</th>\n",
       "      <th>texture_worst</th>\n",
       "      <th>perimeter_worst</th>\n",
       "      <th>area_worst</th>\n",
       "      <th>smoothness_worst</th>\n",
       "      <th>compactness_worst</th>\n",
       "      <th>concavity_worst</th>\n",
       "      <th>concave points_worst</th>\n",
       "      <th>symmetry_worst</th>\n",
       "      <th>fractal_dimension_worst</th>\n",
       "    </tr>\n",
       "  </thead>\n",
       "  <tbody>\n",
       "    <tr>\n",
       "      <th>0</th>\n",
       "      <td>M</td>\n",
       "      <td>17.99</td>\n",
       "      <td>10.38</td>\n",
       "      <td>122.80</td>\n",
       "      <td>1001.0</td>\n",
       "      <td>0.11840</td>\n",
       "      <td>0.27760</td>\n",
       "      <td>0.3001</td>\n",
       "      <td>0.14710</td>\n",
       "      <td>0.2419</td>\n",
       "      <td>...</td>\n",
       "      <td>25.38</td>\n",
       "      <td>17.33</td>\n",
       "      <td>184.60</td>\n",
       "      <td>2019.0</td>\n",
       "      <td>0.1622</td>\n",
       "      <td>0.6656</td>\n",
       "      <td>0.7119</td>\n",
       "      <td>0.2654</td>\n",
       "      <td>0.4601</td>\n",
       "      <td>0.11890</td>\n",
       "    </tr>\n",
       "    <tr>\n",
       "      <th>1</th>\n",
       "      <td>M</td>\n",
       "      <td>20.57</td>\n",
       "      <td>17.77</td>\n",
       "      <td>132.90</td>\n",
       "      <td>1326.0</td>\n",
       "      <td>0.08474</td>\n",
       "      <td>0.07864</td>\n",
       "      <td>0.0869</td>\n",
       "      <td>0.07017</td>\n",
       "      <td>0.1812</td>\n",
       "      <td>...</td>\n",
       "      <td>24.99</td>\n",
       "      <td>23.41</td>\n",
       "      <td>158.80</td>\n",
       "      <td>1956.0</td>\n",
       "      <td>0.1238</td>\n",
       "      <td>0.1866</td>\n",
       "      <td>0.2416</td>\n",
       "      <td>0.1860</td>\n",
       "      <td>0.2750</td>\n",
       "      <td>0.08902</td>\n",
       "    </tr>\n",
       "    <tr>\n",
       "      <th>2</th>\n",
       "      <td>M</td>\n",
       "      <td>19.69</td>\n",
       "      <td>21.25</td>\n",
       "      <td>130.00</td>\n",
       "      <td>1203.0</td>\n",
       "      <td>0.10960</td>\n",
       "      <td>0.15990</td>\n",
       "      <td>0.1974</td>\n",
       "      <td>0.12790</td>\n",
       "      <td>0.2069</td>\n",
       "      <td>...</td>\n",
       "      <td>23.57</td>\n",
       "      <td>25.53</td>\n",
       "      <td>152.50</td>\n",
       "      <td>1709.0</td>\n",
       "      <td>0.1444</td>\n",
       "      <td>0.4245</td>\n",
       "      <td>0.4504</td>\n",
       "      <td>0.2430</td>\n",
       "      <td>0.3613</td>\n",
       "      <td>0.08758</td>\n",
       "    </tr>\n",
       "    <tr>\n",
       "      <th>3</th>\n",
       "      <td>M</td>\n",
       "      <td>11.42</td>\n",
       "      <td>20.38</td>\n",
       "      <td>77.58</td>\n",
       "      <td>386.1</td>\n",
       "      <td>0.14250</td>\n",
       "      <td>0.28390</td>\n",
       "      <td>0.2414</td>\n",
       "      <td>0.10520</td>\n",
       "      <td>0.2597</td>\n",
       "      <td>...</td>\n",
       "      <td>14.91</td>\n",
       "      <td>26.50</td>\n",
       "      <td>98.87</td>\n",
       "      <td>567.7</td>\n",
       "      <td>0.2098</td>\n",
       "      <td>0.8663</td>\n",
       "      <td>0.6869</td>\n",
       "      <td>0.2575</td>\n",
       "      <td>0.6638</td>\n",
       "      <td>0.17300</td>\n",
       "    </tr>\n",
       "    <tr>\n",
       "      <th>4</th>\n",
       "      <td>M</td>\n",
       "      <td>20.29</td>\n",
       "      <td>14.34</td>\n",
       "      <td>135.10</td>\n",
       "      <td>1297.0</td>\n",
       "      <td>0.10030</td>\n",
       "      <td>0.13280</td>\n",
       "      <td>0.1980</td>\n",
       "      <td>0.10430</td>\n",
       "      <td>0.1809</td>\n",
       "      <td>...</td>\n",
       "      <td>22.54</td>\n",
       "      <td>16.67</td>\n",
       "      <td>152.20</td>\n",
       "      <td>1575.0</td>\n",
       "      <td>0.1374</td>\n",
       "      <td>0.2050</td>\n",
       "      <td>0.4000</td>\n",
       "      <td>0.1625</td>\n",
       "      <td>0.2364</td>\n",
       "      <td>0.07678</td>\n",
       "    </tr>\n",
       "  </tbody>\n",
       "</table>\n",
       "<p>5 rows × 31 columns</p>\n",
       "</div>"
      ],
      "text/plain": [
       "  diagnosis  radius_mean  texture_mean  perimeter_mean  area_mean  \\\n",
       "0         M        17.99         10.38          122.80     1001.0   \n",
       "1         M        20.57         17.77          132.90     1326.0   \n",
       "2         M        19.69         21.25          130.00     1203.0   \n",
       "3         M        11.42         20.38           77.58      386.1   \n",
       "4         M        20.29         14.34          135.10     1297.0   \n",
       "\n",
       "   smoothness_mean  compactness_mean  concavity_mean  concave points_mean  \\\n",
       "0          0.11840           0.27760          0.3001              0.14710   \n",
       "1          0.08474           0.07864          0.0869              0.07017   \n",
       "2          0.10960           0.15990          0.1974              0.12790   \n",
       "3          0.14250           0.28390          0.2414              0.10520   \n",
       "4          0.10030           0.13280          0.1980              0.10430   \n",
       "\n",
       "   symmetry_mean  ...  radius_worst  texture_worst  perimeter_worst  \\\n",
       "0         0.2419  ...         25.38          17.33           184.60   \n",
       "1         0.1812  ...         24.99          23.41           158.80   \n",
       "2         0.2069  ...         23.57          25.53           152.50   \n",
       "3         0.2597  ...         14.91          26.50            98.87   \n",
       "4         0.1809  ...         22.54          16.67           152.20   \n",
       "\n",
       "   area_worst  smoothness_worst  compactness_worst  concavity_worst  \\\n",
       "0      2019.0            0.1622             0.6656           0.7119   \n",
       "1      1956.0            0.1238             0.1866           0.2416   \n",
       "2      1709.0            0.1444             0.4245           0.4504   \n",
       "3       567.7            0.2098             0.8663           0.6869   \n",
       "4      1575.0            0.1374             0.2050           0.4000   \n",
       "\n",
       "   concave points_worst  symmetry_worst  fractal_dimension_worst  \n",
       "0                0.2654          0.4601                  0.11890  \n",
       "1                0.1860          0.2750                  0.08902  \n",
       "2                0.2430          0.3613                  0.08758  \n",
       "3                0.2575          0.6638                  0.17300  \n",
       "4                0.1625          0.2364                  0.07678  \n",
       "\n",
       "[5 rows x 31 columns]"
      ]
     },
     "execution_count": 13,
     "metadata": {},
     "output_type": "execute_result"
    }
   ],
   "source": [
    "df.head()"
   ]
  },
  {
   "cell_type": "code",
   "execution_count": 14,
   "id": "5a80c652",
   "metadata": {
    "execution": {
     "iopub.execute_input": "2024-05-09T13:57:29.307911Z",
     "iopub.status.busy": "2024-05-09T13:57:29.307526Z",
     "iopub.status.idle": "2024-05-09T13:57:29.319778Z",
     "shell.execute_reply": "2024-05-09T13:57:29.318594Z"
    },
    "papermill": {
     "duration": 0.046336,
     "end_time": "2024-05-09T13:57:29.323123",
     "exception": false,
     "start_time": "2024-05-09T13:57:29.276787",
     "status": "completed"
    },
    "tags": []
   },
   "outputs": [
    {
     "data": {
      "text/html": [
       "<div>\n",
       "<style scoped>\n",
       "    .dataframe tbody tr th:only-of-type {\n",
       "        vertical-align: middle;\n",
       "    }\n",
       "\n",
       "    .dataframe tbody tr th {\n",
       "        vertical-align: top;\n",
       "    }\n",
       "\n",
       "    .dataframe thead th {\n",
       "        text-align: right;\n",
       "    }\n",
       "</style>\n",
       "<table border=\"1\" class=\"dataframe\">\n",
       "  <thead>\n",
       "    <tr style=\"text-align: right;\">\n",
       "      <th></th>\n",
       "      <th>diagnosis</th>\n",
       "      <th>count</th>\n",
       "    </tr>\n",
       "  </thead>\n",
       "  <tbody>\n",
       "    <tr>\n",
       "      <th>0</th>\n",
       "      <td>B</td>\n",
       "      <td>357</td>\n",
       "    </tr>\n",
       "    <tr>\n",
       "      <th>1</th>\n",
       "      <td>M</td>\n",
       "      <td>212</td>\n",
       "    </tr>\n",
       "  </tbody>\n",
       "</table>\n",
       "</div>"
      ],
      "text/plain": [
       "  diagnosis  count\n",
       "0         B    357\n",
       "1         M    212"
      ]
     },
     "execution_count": 14,
     "metadata": {},
     "output_type": "execute_result"
    }
   ],
   "source": [
    "diagnosis = df['diagnosis'].value_counts().reset_index()\n",
    "diagnosis"
   ]
  },
  {
   "cell_type": "code",
   "execution_count": 15,
   "id": "7e08721f",
   "metadata": {
    "execution": {
     "iopub.execute_input": "2024-05-09T13:57:29.384696Z",
     "iopub.status.busy": "2024-05-09T13:57:29.384304Z",
     "iopub.status.idle": "2024-05-09T13:57:29.680474Z",
     "shell.execute_reply": "2024-05-09T13:57:29.679033Z"
    },
    "papermill": {
     "duration": 0.330127,
     "end_time": "2024-05-09T13:57:29.683148",
     "exception": false,
     "start_time": "2024-05-09T13:57:29.353021",
     "status": "completed"
    },
    "tags": []
   },
   "outputs": [
    {
     "data": {
      "image/png": "[encoded data removed]",
      "text/plain": [
       "<Figure size 576x432 with 1 Axes>"
      ]
     },
     "metadata": {
      "needs_background": "light"
     },
     "output_type": "display_data"
    }
   ],
   "source": [
    "plt.figure(figsize=(8, 6))\n",
    "sns.barplot(x='diagnosis', y='count', data=diagnosis, palette='viridis')\n",
    "plt.xlabel('Diagnosis')\n",
    "plt.ylabel('Count')\n",
    "plt.title('Diagnosis Counts')\n",
    "plt.show()\n"
   ]
  },
  {
   "cell_type": "code",
   "execution_count": null,
   "id": "e0f2a374",
   "metadata": {},
   "outputs": [],
   "source": []
  },
  {
   "cell_type": "markdown",
   "id": "092e046f",
   "metadata": {
    "papermill": {
     "duration": 0.028993,
     "end_time": "2024-05-09T13:57:29.741603",
     "exception": false,
     "start_time": "2024-05-09T13:57:29.712610",
     "status": "completed"
    },
    "tags": []
   },
   "source": [
    "**This graph show the number of diagnosis**"
   ]
  },
  {
   "cell_type": "code",
   "execution_count": 16,
   "id": "932c2697",
   "metadata": {
    "execution": {
     "iopub.execute_input": "2024-05-09T13:57:29.803284Z",
     "iopub.status.busy": "2024-05-09T13:57:29.802824Z",
     "iopub.status.idle": "2024-05-09T13:57:29.810686Z",
     "shell.execute_reply": "2024-05-09T13:57:29.809408Z"
    },
    "papermill": {
     "duration": 0.042065,
     "end_time": "2024-05-09T13:57:29.813032",
     "exception": false,
     "start_time": "2024-05-09T13:57:29.770967",
     "status": "completed"
    },
    "tags": []
   },
   "outputs": [
    {
     "data": {
      "text/plain": [
       "Index(['diagnosis', 'radius_mean', 'texture_mean', 'perimeter_mean',\n",
       "       'area_mean', 'smoothness_mean', 'compactness_mean', 'concavity_mean',\n",
       "       'concave points_mean', 'symmetry_mean', 'fractal_dimension_mean',\n",
       "       'radius_se', 'texture_se', 'perimeter_se', 'area_se', 'smoothness_se',\n",
       "       'compactness_se', 'concavity_se', 'concave points_se', 'symmetry_se',\n",
       "       'fractal_dimension_se', 'radius_worst', 'texture_worst',\n",
       "       'perimeter_worst', 'area_worst', 'smoothness_worst',\n",
       "       'compactness_worst', 'concavity_worst', 'concave points_worst',\n",
       "       'symmetry_worst', 'fractal_dimension_worst'],\n",
       "      dtype='object')"
      ]
     },
     "execution_count": 16,
     "metadata": {},
     "output_type": "execute_result"
    }
   ],
   "source": [
    "df.columns"
   ]
  },
  {
   "cell_type": "code",
   "execution_count": 17,
   "id": "d86551cf",
   "metadata": {
    "execution": {
     "iopub.execute_input": "2024-05-09T13:57:29.874199Z",
     "iopub.status.busy": "2024-05-09T13:57:29.873776Z",
     "iopub.status.idle": "2024-05-09T13:57:29.888850Z",
     "shell.execute_reply": "2024-05-09T13:57:29.887672Z"
    },
    "papermill": {
     "duration": 0.048549,
     "end_time": "2024-05-09T13:57:29.891355",
     "exception": false,
     "start_time": "2024-05-09T13:57:29.842806",
     "status": "completed"
    },
    "tags": []
   },
   "outputs": [
    {
     "data": {
      "text/html": [
       "<div>\n",
       "<style scoped>\n",
       "    .dataframe tbody tr th:only-of-type {\n",
       "        vertical-align: middle;\n",
       "    }\n",
       "\n",
       "    .dataframe tbody tr th {\n",
       "        vertical-align: top;\n",
       "    }\n",
       "\n",
       "    .dataframe thead th {\n",
       "        text-align: right;\n",
       "    }\n",
       "</style>\n",
       "<table border=\"1\" class=\"dataframe\">\n",
       "  <thead>\n",
       "    <tr style=\"text-align: right;\">\n",
       "      <th></th>\n",
       "      <th>index</th>\n",
       "      <th>0</th>\n",
       "    </tr>\n",
       "  </thead>\n",
       "  <tbody>\n",
       "    <tr>\n",
       "      <th>0</th>\n",
       "      <td>radius_mean</td>\n",
       "      <td>8038.429000</td>\n",
       "    </tr>\n",
       "    <tr>\n",
       "      <th>1</th>\n",
       "      <td>texture_mean</td>\n",
       "      <td>10975.810000</td>\n",
       "    </tr>\n",
       "    <tr>\n",
       "      <th>2</th>\n",
       "      <td>perimeter_mean</td>\n",
       "      <td>52330.380000</td>\n",
       "    </tr>\n",
       "    <tr>\n",
       "      <th>3</th>\n",
       "      <td>area_mean</td>\n",
       "      <td>372631.900000</td>\n",
       "    </tr>\n",
       "    <tr>\n",
       "      <th>4</th>\n",
       "      <td>smoothness_mean</td>\n",
       "      <td>54.829000</td>\n",
       "    </tr>\n",
       "    <tr>\n",
       "      <th>5</th>\n",
       "      <td>compactness_mean</td>\n",
       "      <td>59.370020</td>\n",
       "    </tr>\n",
       "    <tr>\n",
       "      <th>6</th>\n",
       "      <td>concavity_mean</td>\n",
       "      <td>50.526811</td>\n",
       "    </tr>\n",
       "    <tr>\n",
       "      <th>7</th>\n",
       "      <td>concave points_mean</td>\n",
       "      <td>27.834994</td>\n",
       "    </tr>\n",
       "    <tr>\n",
       "      <th>8</th>\n",
       "      <td>symmetry_mean</td>\n",
       "      <td>103.081100</td>\n",
       "    </tr>\n",
       "    <tr>\n",
       "      <th>9</th>\n",
       "      <td>fractal_dimension_mean</td>\n",
       "      <td>35.731840</td>\n",
       "    </tr>\n",
       "  </tbody>\n",
       "</table>\n",
       "</div>"
      ],
      "text/plain": [
       "                    index              0\n",
       "0             radius_mean    8038.429000\n",
       "1            texture_mean   10975.810000\n",
       "2          perimeter_mean   52330.380000\n",
       "3               area_mean  372631.900000\n",
       "4         smoothness_mean      54.829000\n",
       "5        compactness_mean      59.370020\n",
       "6          concavity_mean      50.526811\n",
       "7     concave points_mean      27.834994\n",
       "8           symmetry_mean     103.081100\n",
       "9  fractal_dimension_mean      35.731840"
      ]
     },
     "execution_count": 17,
     "metadata": {},
     "output_type": "execute_result"
    }
   ],
   "source": [
    "Dimensions = df[['radius_mean', 'texture_mean', 'perimeter_mean',\n",
    "       'area_mean', 'smoothness_mean', 'compactness_mean', 'concavity_mean',\n",
    "       'concave points_mean', 'symmetry_mean', 'fractal_dimension_mean']].sum().reset_index()\n",
    "Dimensions"
   ]
  },
  {
   "cell_type": "code",
   "execution_count": 18,
   "id": "eba0ad3a",
   "metadata": {
    "execution": {
     "iopub.execute_input": "2024-05-09T13:57:29.953108Z",
     "iopub.status.busy": "2024-05-09T13:57:29.952659Z",
     "iopub.status.idle": "2024-05-09T13:57:29.959232Z",
     "shell.execute_reply": "2024-05-09T13:57:29.957990Z"
    },
    "papermill": {
     "duration": 0.040783,
     "end_time": "2024-05-09T13:57:29.961826",
     "exception": false,
     "start_time": "2024-05-09T13:57:29.921043",
     "status": "completed"
    },
    "tags": []
   },
   "outputs": [],
   "source": [
    "Dimensions.rename(columns={\n",
    "    'index' : 'Dimensions',\n",
    "    0 : 'Sum of Dimensions'\n",
    "},inplace=True)"
   ]
  },
  {
   "cell_type": "code",
   "execution_count": 19,
   "id": "8ec020e5",
   "metadata": {
    "execution": {
     "iopub.execute_input": "2024-05-09T13:57:30.023503Z",
     "iopub.status.busy": "2024-05-09T13:57:30.023044Z",
     "iopub.status.idle": "2024-05-09T13:57:30.034892Z",
     "shell.execute_reply": "2024-05-09T13:57:30.033809Z"
    },
    "papermill": {
     "duration": 0.045395,
     "end_time": "2024-05-09T13:57:30.037319",
     "exception": false,
     "start_time": "2024-05-09T13:57:29.991924",
     "status": "completed"
    },
    "tags": []
   },
   "outputs": [
    {
     "data": {
      "text/html": [
       "<div>\n",
       "<style scoped>\n",
       "    .dataframe tbody tr th:only-of-type {\n",
       "        vertical-align: middle;\n",
       "    }\n",
       "\n",
       "    .dataframe tbody tr th {\n",
       "        vertical-align: top;\n",
       "    }\n",
       "\n",
       "    .dataframe thead th {\n",
       "        text-align: right;\n",
       "    }\n",
       "</style>\n",
       "<table border=\"1\" class=\"dataframe\">\n",
       "  <thead>\n",
       "    <tr style=\"text-align: right;\">\n",
       "      <th></th>\n",
       "      <th>Dimensions</th>\n",
       "      <th>Sum of Dimensions</th>\n",
       "    </tr>\n",
       "  </thead>\n",
       "  <tbody>\n",
       "    <tr>\n",
       "      <th>0</th>\n",
       "      <td>radius_mean</td>\n",
       "      <td>8038.429000</td>\n",
       "    </tr>\n",
       "    <tr>\n",
       "      <th>1</th>\n",
       "      <td>texture_mean</td>\n",
       "      <td>10975.810000</td>\n",
       "    </tr>\n",
       "    <tr>\n",
       "      <th>2</th>\n",
       "      <td>perimeter_mean</td>\n",
       "      <td>52330.380000</td>\n",
       "    </tr>\n",
       "    <tr>\n",
       "      <th>3</th>\n",
       "      <td>area_mean</td>\n",
       "      <td>372631.900000</td>\n",
       "    </tr>\n",
       "    <tr>\n",
       "      <th>4</th>\n",
       "      <td>smoothness_mean</td>\n",
       "      <td>54.829000</td>\n",
       "    </tr>\n",
       "    <tr>\n",
       "      <th>5</th>\n",
       "      <td>compactness_mean</td>\n",
       "      <td>59.370020</td>\n",
       "    </tr>\n",
       "    <tr>\n",
       "      <th>6</th>\n",
       "      <td>concavity_mean</td>\n",
       "      <td>50.526811</td>\n",
       "    </tr>\n",
       "    <tr>\n",
       "      <th>7</th>\n",
       "      <td>concave points_mean</td>\n",
       "      <td>27.834994</td>\n",
       "    </tr>\n",
       "    <tr>\n",
       "      <th>8</th>\n",
       "      <td>symmetry_mean</td>\n",
       "      <td>103.081100</td>\n",
       "    </tr>\n",
       "    <tr>\n",
       "      <th>9</th>\n",
       "      <td>fractal_dimension_mean</td>\n",
       "      <td>35.731840</td>\n",
       "    </tr>\n",
       "  </tbody>\n",
       "</table>\n",
       "</div>"
      ],
      "text/plain": [
       "               Dimensions  Sum of Dimensions\n",
       "0             radius_mean        8038.429000\n",
       "1            texture_mean       10975.810000\n",
       "2          perimeter_mean       52330.380000\n",
       "3               area_mean      372631.900000\n",
       "4         smoothness_mean          54.829000\n",
       "5        compactness_mean          59.370020\n",
       "6          concavity_mean          50.526811\n",
       "7     concave points_mean          27.834994\n",
       "8           symmetry_mean         103.081100\n",
       "9  fractal_dimension_mean          35.731840"
      ]
     },
     "execution_count": 19,
     "metadata": {},
     "output_type": "execute_result"
    }
   ],
   "source": [
    "Dimensions"
   ]
  },
  {
   "cell_type": "code",
   "execution_count": 20,
   "id": "b3d78dfa",
   "metadata": {
    "execution": {
     "iopub.execute_input": "2024-05-09T13:57:30.099281Z",
     "iopub.status.busy": "2024-05-09T13:57:30.098237Z",
     "iopub.status.idle": "2024-05-09T13:57:30.478402Z",
     "shell.execute_reply": "2024-05-09T13:57:30.477172Z"
    },
    "papermill": {
     "duration": 0.41402,
     "end_time": "2024-05-09T13:57:30.481029",
     "exception": false,
     "start_time": "2024-05-09T13:57:30.067009",
     "status": "completed"
    },
    "tags": []
   },
   "outputs": [
    {
     "data": {
      "image/png": "[encoded data removed]",
      "text/plain": [
       "<Figure size 576x432 with 1 Axes>"
      ]
     },
     "metadata": {
      "needs_background": "light"
     },
     "output_type": "display_data"
    }
   ],
   "source": [
    "plt.figure(figsize=(8, 6))\n",
    "sns.barplot(x='Dimensions', y='Sum of Dimensions', data=Dimensions, palette='viridis')\n",
    "plt.xlabel('Dimensions')\n",
    "plt.xticks(rotation=90)\n",
    "plt.ylabel('Sum of Dimensions')\n",
    "plt.title('Sum of Dimensions')\n",
    "plt.show()"
   ]
  },
  {
   "cell_type": "code",
   "execution_count": 21,
   "id": "03f30013",
   "metadata": {
    "execution": {
     "iopub.execute_input": "2024-05-09T13:57:30.544195Z",
     "iopub.status.busy": "2024-05-09T13:57:30.543754Z",
     "iopub.status.idle": "2024-05-09T13:57:30.559397Z",
     "shell.execute_reply": "2024-05-09T13:57:30.558180Z"
    },
    "papermill": {
     "duration": 0.05025,
     "end_time": "2024-05-09T13:57:30.561952",
     "exception": false,
     "start_time": "2024-05-09T13:57:30.511702",
     "status": "completed"
    },
    "tags": []
   },
   "outputs": [
    {
     "data": {
      "text/html": [
       "<div>\n",
       "<style scoped>\n",
       "    .dataframe tbody tr th:only-of-type {\n",
       "        vertical-align: middle;\n",
       "    }\n",
       "\n",
       "    .dataframe tbody tr th {\n",
       "        vertical-align: top;\n",
       "    }\n",
       "\n",
       "    .dataframe thead th {\n",
       "        text-align: right;\n",
       "    }\n",
       "</style>\n",
       "<table border=\"1\" class=\"dataframe\">\n",
       "  <thead>\n",
       "    <tr style=\"text-align: right;\">\n",
       "      <th></th>\n",
       "      <th>index</th>\n",
       "      <th>0</th>\n",
       "    </tr>\n",
       "  </thead>\n",
       "  <tbody>\n",
       "    <tr>\n",
       "      <th>0</th>\n",
       "      <td>radius_se</td>\n",
       "      <td>230.542900</td>\n",
       "    </tr>\n",
       "    <tr>\n",
       "      <th>1</th>\n",
       "      <td>texture_se</td>\n",
       "      <td>692.389600</td>\n",
       "    </tr>\n",
       "    <tr>\n",
       "      <th>2</th>\n",
       "      <td>perimeter_se</td>\n",
       "      <td>1630.787700</td>\n",
       "    </tr>\n",
       "    <tr>\n",
       "      <th>3</th>\n",
       "      <td>area_se</td>\n",
       "      <td>22951.798000</td>\n",
       "    </tr>\n",
       "    <tr>\n",
       "      <th>4</th>\n",
       "      <td>smoothness_se</td>\n",
       "      <td>4.006317</td>\n",
       "    </tr>\n",
       "    <tr>\n",
       "      <th>5</th>\n",
       "      <td>compactness_se</td>\n",
       "      <td>14.497061</td>\n",
       "    </tr>\n",
       "    <tr>\n",
       "      <th>6</th>\n",
       "      <td>concavity_se</td>\n",
       "      <td>18.147525</td>\n",
       "    </tr>\n",
       "    <tr>\n",
       "      <th>7</th>\n",
       "      <td>concave points_se</td>\n",
       "      <td>6.712002</td>\n",
       "    </tr>\n",
       "    <tr>\n",
       "      <th>8</th>\n",
       "      <td>symmetry_se</td>\n",
       "      <td>11.688568</td>\n",
       "    </tr>\n",
       "    <tr>\n",
       "      <th>9</th>\n",
       "      <td>fractal_dimension_se</td>\n",
       "      <td>2.159300</td>\n",
       "    </tr>\n",
       "  </tbody>\n",
       "</table>\n",
       "</div>"
      ],
      "text/plain": [
       "                  index             0\n",
       "0             radius_se    230.542900\n",
       "1            texture_se    692.389600\n",
       "2          perimeter_se   1630.787700\n",
       "3               area_se  22951.798000\n",
       "4         smoothness_se      4.006317\n",
       "5        compactness_se     14.497061\n",
       "6          concavity_se     18.147525\n",
       "7     concave points_se      6.712002\n",
       "8           symmetry_se     11.688568\n",
       "9  fractal_dimension_se      2.159300"
      ]
     },
     "execution_count": 21,
     "metadata": {},
     "output_type": "execute_result"
    }
   ],
   "source": [
    "Properties = df[['radius_se', 'texture_se', 'perimeter_se', 'area_se', 'smoothness_se',\n",
    "       'compactness_se', 'concavity_se', 'concave points_se', 'symmetry_se',\n",
    "       'fractal_dimension_se']].sum().reset_index()\n",
    "Properties"
   ]
  },
  {
   "cell_type": "code",
   "execution_count": 22,
   "id": "14a357e7",
   "metadata": {
    "execution": {
     "iopub.execute_input": "2024-05-09T13:57:30.626201Z",
     "iopub.status.busy": "2024-05-09T13:57:30.625139Z",
     "iopub.status.idle": "2024-05-09T13:57:30.631527Z",
     "shell.execute_reply": "2024-05-09T13:57:30.630194Z"
    },
    "papermill": {
     "duration": 0.041107,
     "end_time": "2024-05-09T13:57:30.634053",
     "exception": false,
     "start_time": "2024-05-09T13:57:30.592946",
     "status": "completed"
    },
    "tags": []
   },
   "outputs": [],
   "source": [
    "Properties.rename(columns={\n",
    "    'index' : 'Properties',\n",
    "    0 : 'Sum of Properties'\n",
    "},inplace=True)"
   ]
  },
  {
   "cell_type": "code",
   "execution_count": 23,
   "id": "fbdc539d",
   "metadata": {
    "execution": {
     "iopub.execute_input": "2024-05-09T13:57:30.698303Z",
     "iopub.status.busy": "2024-05-09T13:57:30.697866Z",
     "iopub.status.idle": "2024-05-09T13:57:30.709474Z",
     "shell.execute_reply": "2024-05-09T13:57:30.708390Z"
    },
    "papermill": {
     "duration": 0.046368,
     "end_time": "2024-05-09T13:57:30.711929",
     "exception": false,
     "start_time": "2024-05-09T13:57:30.665561",
     "status": "completed"
    },
    "tags": []
   },
   "outputs": [
    {
     "data": {
      "text/html": [
       "<div>\n",
       "<style scoped>\n",
       "    .dataframe tbody tr th:only-of-type {\n",
       "        vertical-align: middle;\n",
       "    }\n",
       "\n",
       "    .dataframe tbody tr th {\n",
       "        vertical-align: top;\n",
       "    }\n",
       "\n",
       "    .dataframe thead th {\n",
       "        text-align: right;\n",
       "    }\n",
       "</style>\n",
       "<table border=\"1\" class=\"dataframe\">\n",
       "  <thead>\n",
       "    <tr style=\"text-align: right;\">\n",
       "      <th></th>\n",
       "      <th>Properties</th>\n",
       "      <th>Sum of Properties</th>\n",
       "    </tr>\n",
       "  </thead>\n",
       "  <tbody>\n",
       "    <tr>\n",
       "      <th>0</th>\n",
       "      <td>radius_se</td>\n",
       "      <td>230.542900</td>\n",
       "    </tr>\n",
       "    <tr>\n",
       "      <th>1</th>\n",
       "      <td>texture_se</td>\n",
       "      <td>692.389600</td>\n",
       "    </tr>\n",
       "    <tr>\n",
       "      <th>2</th>\n",
       "      <td>perimeter_se</td>\n",
       "      <td>1630.787700</td>\n",
       "    </tr>\n",
       "    <tr>\n",
       "      <th>3</th>\n",
       "      <td>area_se</td>\n",
       "      <td>22951.798000</td>\n",
       "    </tr>\n",
       "    <tr>\n",
       "      <th>4</th>\n",
       "      <td>smoothness_se</td>\n",
       "      <td>4.006317</td>\n",
       "    </tr>\n",
       "    <tr>\n",
       "      <th>5</th>\n",
       "      <td>compactness_se</td>\n",
       "      <td>14.497061</td>\n",
       "    </tr>\n",
       "    <tr>\n",
       "      <th>6</th>\n",
       "      <td>concavity_se</td>\n",
       "      <td>18.147525</td>\n",
       "    </tr>\n",
       "    <tr>\n",
       "      <th>7</th>\n",
       "      <td>concave points_se</td>\n",
       "      <td>6.712002</td>\n",
       "    </tr>\n",
       "    <tr>\n",
       "      <th>8</th>\n",
       "      <td>symmetry_se</td>\n",
       "      <td>11.688568</td>\n",
       "    </tr>\n",
       "    <tr>\n",
       "      <th>9</th>\n",
       "      <td>fractal_dimension_se</td>\n",
       "      <td>2.159300</td>\n",
       "    </tr>\n",
       "  </tbody>\n",
       "</table>\n",
       "</div>"
      ],
      "text/plain": [
       "             Properties  Sum of Properties\n",
       "0             radius_se         230.542900\n",
       "1            texture_se         692.389600\n",
       "2          perimeter_se        1630.787700\n",
       "3               area_se       22951.798000\n",
       "4         smoothness_se           4.006317\n",
       "5        compactness_se          14.497061\n",
       "6          concavity_se          18.147525\n",
       "7     concave points_se           6.712002\n",
       "8           symmetry_se          11.688568\n",
       "9  fractal_dimension_se           2.159300"
      ]
     },
     "execution_count": 23,
     "metadata": {},
     "output_type": "execute_result"
    }
   ],
   "source": [
    "Properties"
   ]
  },
  {
   "cell_type": "code",
   "execution_count": 24,
   "id": "4a521d7f",
   "metadata": {
    "execution": {
     "iopub.execute_input": "2024-05-09T13:57:30.785585Z",
     "iopub.status.busy": "2024-05-09T13:57:30.784422Z",
     "iopub.status.idle": "2024-05-09T13:57:31.121034Z",
     "shell.execute_reply": "2024-05-09T13:57:31.119773Z"
    },
    "papermill": {
     "duration": 0.380636,
     "end_time": "2024-05-09T13:57:31.123775",
     "exception": false,
     "start_time": "2024-05-09T13:57:30.743139",
     "status": "completed"
    },
    "tags": []
   },
   "outputs": [
    {
     "data": {
      "image/png": "[encoded data removed]",
      "text/plain": [
       "<Figure size 576x432 with 1 Axes>"
      ]
     },
     "metadata": {
      "needs_background": "light"
     },
     "output_type": "display_data"
    }
   ],
   "source": [
    "plt.figure(figsize=(8, 6))\n",
    "sns.barplot(x='Properties', y='Sum of Properties', data=Properties, palette='viridis')\n",
    "plt.xlabel('Properties')\n",
    "plt.xticks(rotation=90)\n",
    "plt.ylabel('Sum of Properties')\n",
    "plt.title('Sum of Properties')\n",
    "plt.show()"
   ]
  },
  {
   "cell_type": "code",
   "execution_count": 25,
   "id": "4465467e",
   "metadata": {
    "execution": {
     "iopub.execute_input": "2024-05-09T13:57:31.189941Z",
     "iopub.status.busy": "2024-05-09T13:57:31.189496Z",
     "iopub.status.idle": "2024-05-09T13:57:31.205002Z",
     "shell.execute_reply": "2024-05-09T13:57:31.203889Z"
    },
    "papermill": {
     "duration": 0.051578,
     "end_time": "2024-05-09T13:57:31.207443",
     "exception": false,
     "start_time": "2024-05-09T13:57:31.155865",
     "status": "completed"
    },
    "tags": []
   },
   "outputs": [
    {
     "data": {
      "text/html": [
       "<div>\n",
       "<style scoped>\n",
       "    .dataframe tbody tr th:only-of-type {\n",
       "        vertical-align: middle;\n",
       "    }\n",
       "\n",
       "    .dataframe tbody tr th {\n",
       "        vertical-align: top;\n",
       "    }\n",
       "\n",
       "    .dataframe thead th {\n",
       "        text-align: right;\n",
       "    }\n",
       "</style>\n",
       "<table border=\"1\" class=\"dataframe\">\n",
       "  <thead>\n",
       "    <tr style=\"text-align: right;\">\n",
       "      <th></th>\n",
       "      <th>index</th>\n",
       "      <th>0</th>\n",
       "    </tr>\n",
       "  </thead>\n",
       "  <tbody>\n",
       "    <tr>\n",
       "      <th>0</th>\n",
       "      <td>radius_worst</td>\n",
       "      <td>9257.169000</td>\n",
       "    </tr>\n",
       "    <tr>\n",
       "      <th>1</th>\n",
       "      <td>texture_worst</td>\n",
       "      <td>14610.340000</td>\n",
       "    </tr>\n",
       "    <tr>\n",
       "      <th>2</th>\n",
       "      <td>perimeter_worst</td>\n",
       "      <td>61031.630000</td>\n",
       "    </tr>\n",
       "    <tr>\n",
       "      <th>3</th>\n",
       "      <td>area_worst</td>\n",
       "      <td>501051.800000</td>\n",
       "    </tr>\n",
       "    <tr>\n",
       "      <th>4</th>\n",
       "      <td>smoothness_worst</td>\n",
       "      <td>75.317730</td>\n",
       "    </tr>\n",
       "    <tr>\n",
       "      <th>5</th>\n",
       "      <td>compactness_worst</td>\n",
       "      <td>144.676810</td>\n",
       "    </tr>\n",
       "    <tr>\n",
       "      <th>6</th>\n",
       "      <td>concavity_worst</td>\n",
       "      <td>154.875247</td>\n",
       "    </tr>\n",
       "    <tr>\n",
       "      <th>7</th>\n",
       "      <td>concave points_worst</td>\n",
       "      <td>65.210941</td>\n",
       "    </tr>\n",
       "    <tr>\n",
       "      <th>8</th>\n",
       "      <td>symmetry_worst</td>\n",
       "      <td>165.053000</td>\n",
       "    </tr>\n",
       "    <tr>\n",
       "      <th>9</th>\n",
       "      <td>fractal_dimension_worst</td>\n",
       "      <td>47.765170</td>\n",
       "    </tr>\n",
       "  </tbody>\n",
       "</table>\n",
       "</div>"
      ],
      "text/plain": [
       "                     index              0\n",
       "0             radius_worst    9257.169000\n",
       "1            texture_worst   14610.340000\n",
       "2          perimeter_worst   61031.630000\n",
       "3               area_worst  501051.800000\n",
       "4         smoothness_worst      75.317730\n",
       "5        compactness_worst     144.676810\n",
       "6          concavity_worst     154.875247\n",
       "7     concave points_worst      65.210941\n",
       "8           symmetry_worst     165.053000\n",
       "9  fractal_dimension_worst      47.765170"
      ]
     },
     "execution_count": 25,
     "metadata": {},
     "output_type": "execute_result"
    }
   ],
   "source": [
    "The_worst_dimensions = df[['radius_worst', 'texture_worst',\n",
    "       'perimeter_worst', 'area_worst', 'smoothness_worst',\n",
    "       'compactness_worst', 'concavity_worst', 'concave points_worst',\n",
    "       'symmetry_worst', 'fractal_dimension_worst']].sum().reset_index()\n",
    "The_worst_dimensions"
   ]
  },
  {
   "cell_type": "code",
   "execution_count": 26,
   "id": "6f799d59",
   "metadata": {
    "execution": {
     "iopub.execute_input": "2024-05-09T13:57:31.275047Z",
     "iopub.status.busy": "2024-05-09T13:57:31.274641Z",
     "iopub.status.idle": "2024-05-09T13:57:31.280885Z",
     "shell.execute_reply": "2024-05-09T13:57:31.279705Z"
    },
    "papermill": {
     "duration": 0.043563,
     "end_time": "2024-05-09T13:57:31.283806",
     "exception": false,
     "start_time": "2024-05-09T13:57:31.240243",
     "status": "completed"
    },
    "tags": []
   },
   "outputs": [],
   "source": [
    "The_worst_dimensions.rename(columns={\n",
    "    'index' : 'The_worst_dimensions',\n",
    "    0 : 'Sum of The_worst_dimensions'\n",
    "},inplace=True)"
   ]
  },
  {
   "cell_type": "code",
   "execution_count": 27,
   "id": "524ebea1",
   "metadata": {
    "execution": {
     "iopub.execute_input": "2024-05-09T13:57:31.350756Z",
     "iopub.status.busy": "2024-05-09T13:57:31.350317Z",
     "iopub.status.idle": "2024-05-09T13:57:31.660550Z",
     "shell.execute_reply": "2024-05-09T13:57:31.659317Z"
    },
    "papermill": {
     "duration": 0.346341,
     "end_time": "2024-05-09T13:57:31.663173",
     "exception": false,
     "start_time": "2024-05-09T13:57:31.316832",
     "status": "completed"
    },
    "tags": []
   },
   "outputs": [
    {
     "data": {
      "image/png": "[encoded data removed]",
      "text/plain": [
       "<Figure size 576x432 with 1 Axes>"
      ]
     },
     "metadata": {
      "needs_background": "light"
     },
     "output_type": "display_data"
    }
   ],
   "source": [
    "plt.figure(figsize=(8, 6))\n",
    "sns.barplot(x='The_worst_dimensions', y='Sum of The_worst_dimensions', data=The_worst_dimensions, palette='viridis')\n",
    "plt.xlabel('The_worst_dimensions')\n",
    "plt.xticks(rotation=90)\n",
    "plt.ylabel('Sum of The_worst_dimensions')\n",
    "plt.title('Sum of The_worst_dimensions')\n",
    "plt.show()"
   ]
  },
  {
   "cell_type": "markdown",
   "id": "e45cfab5",
   "metadata": {
    "papermill": {
     "duration": 0.033523,
     "end_time": "2024-05-09T13:57:31.729872",
     "exception": false,
     "start_time": "2024-05-09T13:57:31.696349",
     "status": "completed"
    },
    "tags": []
   },
   "source": [
    "# Preprocessing "
   ]
  },
  {
   "cell_type": "code",
   "execution_count": 28,
   "id": "f5d3ad21",
   "metadata": {
    "execution": {
     "iopub.execute_input": "2024-05-09T13:57:31.798915Z",
     "iopub.status.busy": "2024-05-09T13:57:31.797877Z",
     "iopub.status.idle": "2024-05-09T13:57:31.804030Z",
     "shell.execute_reply": "2024-05-09T13:57:31.802651Z"
    },
    "papermill": {
     "duration": 0.043759,
     "end_time": "2024-05-09T13:57:31.806621",
     "exception": false,
     "start_time": "2024-05-09T13:57:31.762862",
     "status": "completed"
    },
    "tags": []
   },
   "outputs": [],
   "source": [
    "labelencoder = LabelEncoder()"
   ]
  },
  {
   "cell_type": "code",
   "execution_count": 29,
   "id": "92b28d58",
   "metadata": {
    "execution": {
     "iopub.execute_input": "2024-05-09T13:57:31.875419Z",
     "iopub.status.busy": "2024-05-09T13:57:31.874984Z",
     "iopub.status.idle": "2024-05-09T13:57:31.881390Z",
     "shell.execute_reply": "2024-05-09T13:57:31.880204Z"
    },
    "papermill": {
     "duration": 0.043958,
     "end_time": "2024-05-09T13:57:31.884112",
     "exception": false,
     "start_time": "2024-05-09T13:57:31.840154",
     "status": "completed"
    },
    "tags": []
   },
   "outputs": [],
   "source": [
    "df['diagnosis'] = labelencoder.fit_transform(df['diagnosis'])"
   ]
  },
  {
   "cell_type": "code",
   "execution_count": 30,
   "id": "0bd2b2b6",
   "metadata": {
    "execution": {
     "iopub.execute_input": "2024-05-09T13:57:31.952553Z",
     "iopub.status.busy": "2024-05-09T13:57:31.951952Z",
     "iopub.status.idle": "2024-05-09T13:57:34.983240Z",
     "shell.execute_reply": "2024-05-09T13:57:34.982053Z"
    },
    "papermill": {
     "duration": 3.076184,
     "end_time": "2024-05-09T13:57:34.993700",
     "exception": false,
     "start_time": "2024-05-09T13:57:31.917516",
     "status": "completed"
    },
    "tags": []
   },
   "outputs": [
    {
     "data": {
      "image/png": "[encoded data removed]",
      "text/plain": [
       "<Figure size 1440x864 with 2 Axes>"
      ]
     },
     "metadata": {
      "needs_background": "light"
     },
     "output_type": "display_data"
    }
   ],
   "source": [
    "plt.figure(figsize=(20, 12))\n",
    "sns.heatmap(df.corr(), annot=True, cmap='viridis', fmt=\".2f\")\n",
    "plt.title('Correlation Matrix')\n",
    "plt.show()"
   ]
  },
  {
   "cell_type": "markdown",
   "id": "f8d97735",
   "metadata": {
    "papermill": {
     "duration": 0.042778,
     "end_time": "2024-05-09T13:57:35.079897",
     "exception": false,
     "start_time": "2024-05-09T13:57:35.037119",
     "status": "completed"
    },
    "tags": []
   },
   "source": [
    "**From the heatmap we can determine which column affect and which one not affect**"
   ]
  },
  {
   "cell_type": "markdown",
   "id": "235058db",
   "metadata": {
    "papermill": {
     "duration": 0.043138,
     "end_time": "2024-05-09T13:57:35.166289",
     "exception": false,
     "start_time": "2024-05-09T13:57:35.123151",
     "status": "completed"
    },
    "tags": []
   },
   "source": [
    "# Train Test Split"
   ]
  },
  {
   "cell_type": "code",
   "execution_count": 31,
   "id": "5bdde938",
   "metadata": {
    "execution": {
     "iopub.execute_input": "2024-05-09T13:57:35.255026Z",
     "iopub.status.busy": "2024-05-09T13:57:35.254613Z",
     "iopub.status.idle": "2024-05-09T13:57:35.261167Z",
     "shell.execute_reply": "2024-05-09T13:57:35.260025Z"
    },
    "papermill": {
     "duration": 0.054122,
     "end_time": "2024-05-09T13:57:35.263702",
     "exception": false,
     "start_time": "2024-05-09T13:57:35.209580",
     "status": "completed"
    },
    "tags": []
   },
   "outputs": [],
   "source": [
    "X = df.drop(columns='diagnosis',axis=1)\n",
    "y = df['diagnosis']"
   ]
  },
  {
   "cell_type": "code",
   "execution_count": 32,
   "id": "531544ea",
   "metadata": {
    "execution": {
     "iopub.execute_input": "2024-05-09T13:57:35.351635Z",
     "iopub.status.busy": "2024-05-09T13:57:35.351173Z",
     "iopub.status.idle": "2024-05-09T13:57:35.390848Z",
     "shell.execute_reply": "2024-05-09T13:57:35.389769Z"
    },
    "papermill": {
     "duration": 0.086781,
     "end_time": "2024-05-09T13:57:35.393468",
     "exception": false,
     "start_time": "2024-05-09T13:57:35.306687",
     "status": "completed"
    },
    "tags": []
   },
   "outputs": [
    {
     "data": {
      "text/html": [
       "<div>\n",
       "<style scoped>\n",
       "    .dataframe tbody tr th:only-of-type {\n",
       "        vertical-align: middle;\n",
       "    }\n",
       "\n",
       "    .dataframe tbody tr th {\n",
       "        vertical-align: top;\n",
       "    }\n",
       "\n",
       "    .dataframe thead th {\n",
       "        text-align: right;\n",
       "    }\n",
       "</style>\n",
       "<table border=\"1\" class=\"dataframe\">\n",
       "  <thead>\n",
       "    <tr style=\"text-align: right;\">\n",
       "      <th></th>\n",
       "      <th>radius_mean</th>\n",
       "      <th>texture_mean</th>\n",
       "      <th>perimeter_mean</th>\n",
       "      <th>area_mean</th>\n",
       "      <th>smoothness_mean</th>\n",
       "      <th>compactness_mean</th>\n",
       "      <th>concavity_mean</th>\n",
       "      <th>concave points_mean</th>\n",
       "      <th>symmetry_mean</th>\n",
       "      <th>fractal_dimension_mean</th>\n",
       "      <th>...</th>\n",
       "      <th>radius_worst</th>\n",
       "      <th>texture_worst</th>\n",
       "      <th>perimeter_worst</th>\n",
       "      <th>area_worst</th>\n",
       "      <th>smoothness_worst</th>\n",
       "      <th>compactness_worst</th>\n",
       "      <th>concavity_worst</th>\n",
       "      <th>concave points_worst</th>\n",
       "      <th>symmetry_worst</th>\n",
       "      <th>fractal_dimension_worst</th>\n",
       "    </tr>\n",
       "  </thead>\n",
       "  <tbody>\n",
       "    <tr>\n",
       "      <th>0</th>\n",
       "      <td>17.99</td>\n",
       "      <td>10.38</td>\n",
       "      <td>122.80</td>\n",
       "      <td>1001.0</td>\n",
       "      <td>0.11840</td>\n",
       "      <td>0.27760</td>\n",
       "      <td>0.30010</td>\n",
       "      <td>0.14710</td>\n",
       "      <td>0.2419</td>\n",
       "      <td>0.07871</td>\n",
       "      <td>...</td>\n",
       "      <td>25.380</td>\n",
       "      <td>17.33</td>\n",
       "      <td>184.60</td>\n",
       "      <td>2019.0</td>\n",
       "      <td>0.16220</td>\n",
       "      <td>0.66560</td>\n",
       "      <td>0.7119</td>\n",
       "      <td>0.2654</td>\n",
       "      <td>0.4601</td>\n",
       "      <td>0.11890</td>\n",
       "    </tr>\n",
       "    <tr>\n",
       "      <th>1</th>\n",
       "      <td>20.57</td>\n",
       "      <td>17.77</td>\n",
       "      <td>132.90</td>\n",
       "      <td>1326.0</td>\n",
       "      <td>0.08474</td>\n",
       "      <td>0.07864</td>\n",
       "      <td>0.08690</td>\n",
       "      <td>0.07017</td>\n",
       "      <td>0.1812</td>\n",
       "      <td>0.05667</td>\n",
       "      <td>...</td>\n",
       "      <td>24.990</td>\n",
       "      <td>23.41</td>\n",
       "      <td>158.80</td>\n",
       "      <td>1956.0</td>\n",
       "      <td>0.12380</td>\n",
       "      <td>0.18660</td>\n",
       "      <td>0.2416</td>\n",
       "      <td>0.1860</td>\n",
       "      <td>0.2750</td>\n",
       "      <td>0.08902</td>\n",
       "    </tr>\n",
       "    <tr>\n",
       "      <th>2</th>\n",
       "      <td>19.69</td>\n",
       "      <td>21.25</td>\n",
       "      <td>130.00</td>\n",
       "      <td>1203.0</td>\n",
       "      <td>0.10960</td>\n",
       "      <td>0.15990</td>\n",
       "      <td>0.19740</td>\n",
       "      <td>0.12790</td>\n",
       "      <td>0.2069</td>\n",
       "      <td>0.05999</td>\n",
       "      <td>...</td>\n",
       "      <td>23.570</td>\n",
       "      <td>25.53</td>\n",
       "      <td>152.50</td>\n",
       "      <td>1709.0</td>\n",
       "      <td>0.14440</td>\n",
       "      <td>0.42450</td>\n",
       "      <td>0.4504</td>\n",
       "      <td>0.2430</td>\n",
       "      <td>0.3613</td>\n",
       "      <td>0.08758</td>\n",
       "    </tr>\n",
       "    <tr>\n",
       "      <th>3</th>\n",
       "      <td>11.42</td>\n",
       "      <td>20.38</td>\n",
       "      <td>77.58</td>\n",
       "      <td>386.1</td>\n",
       "      <td>0.14250</td>\n",
       "      <td>0.28390</td>\n",
       "      <td>0.24140</td>\n",
       "      <td>0.10520</td>\n",
       "      <td>0.2597</td>\n",
       "      <td>0.09744</td>\n",
       "      <td>...</td>\n",
       "      <td>14.910</td>\n",
       "      <td>26.50</td>\n",
       "      <td>98.87</td>\n",
       "      <td>567.7</td>\n",
       "      <td>0.20980</td>\n",
       "      <td>0.86630</td>\n",
       "      <td>0.6869</td>\n",
       "      <td>0.2575</td>\n",
       "      <td>0.6638</td>\n",
       "      <td>0.17300</td>\n",
       "    </tr>\n",
       "    <tr>\n",
       "      <th>4</th>\n",
       "      <td>20.29</td>\n",
       "      <td>14.34</td>\n",
       "      <td>135.10</td>\n",
       "      <td>1297.0</td>\n",
       "      <td>0.10030</td>\n",
       "      <td>0.13280</td>\n",
       "      <td>0.19800</td>\n",
       "      <td>0.10430</td>\n",
       "      <td>0.1809</td>\n",
       "      <td>0.05883</td>\n",
       "      <td>...</td>\n",
       "      <td>22.540</td>\n",
       "      <td>16.67</td>\n",
       "      <td>152.20</td>\n",
       "      <td>1575.0</td>\n",
       "      <td>0.13740</td>\n",
       "      <td>0.20500</td>\n",
       "      <td>0.4000</td>\n",
       "      <td>0.1625</td>\n",
       "      <td>0.2364</td>\n",
       "      <td>0.07678</td>\n",
       "    </tr>\n",
       "    <tr>\n",
       "      <th>...</th>\n",
       "      <td>...</td>\n",
       "      <td>...</td>\n",
       "      <td>...</td>\n",
       "      <td>...</td>\n",
       "      <td>...</td>\n",
       "      <td>...</td>\n",
       "      <td>...</td>\n",
       "      <td>...</td>\n",
       "      <td>...</td>\n",
       "      <td>...</td>\n",
       "      <td>...</td>\n",
       "      <td>...</td>\n",
       "      <td>...</td>\n",
       "      <td>...</td>\n",
       "      <td>...</td>\n",
       "      <td>...</td>\n",
       "      <td>...</td>\n",
       "      <td>...</td>\n",
       "      <td>...</td>\n",
       "      <td>...</td>\n",
       "      <td>...</td>\n",
       "    </tr>\n",
       "    <tr>\n",
       "      <th>564</th>\n",
       "      <td>21.56</td>\n",
       "      <td>22.39</td>\n",
       "      <td>142.00</td>\n",
       "      <td>1479.0</td>\n",
       "      <td>0.11100</td>\n",
       "      <td>0.11590</td>\n",
       "      <td>0.24390</td>\n",
       "      <td>0.13890</td>\n",
       "      <td>0.1726</td>\n",
       "      <td>0.05623</td>\n",
       "      <td>...</td>\n",
       "      <td>25.450</td>\n",
       "      <td>26.40</td>\n",
       "      <td>166.10</td>\n",
       "      <td>2027.0</td>\n",
       "      <td>0.14100</td>\n",
       "      <td>0.21130</td>\n",
       "      <td>0.4107</td>\n",
       "      <td>0.2216</td>\n",
       "      <td>0.2060</td>\n",
       "      <td>0.07115</td>\n",
       "    </tr>\n",
       "    <tr>\n",
       "      <th>565</th>\n",
       "      <td>20.13</td>\n",
       "      <td>28.25</td>\n",
       "      <td>131.20</td>\n",
       "      <td>1261.0</td>\n",
       "      <td>0.09780</td>\n",
       "      <td>0.10340</td>\n",
       "      <td>0.14400</td>\n",
       "      <td>0.09791</td>\n",
       "      <td>0.1752</td>\n",
       "      <td>0.05533</td>\n",
       "      <td>...</td>\n",
       "      <td>23.690</td>\n",
       "      <td>38.25</td>\n",
       "      <td>155.00</td>\n",
       "      <td>1731.0</td>\n",
       "      <td>0.11660</td>\n",
       "      <td>0.19220</td>\n",
       "      <td>0.3215</td>\n",
       "      <td>0.1628</td>\n",
       "      <td>0.2572</td>\n",
       "      <td>0.06637</td>\n",
       "    </tr>\n",
       "    <tr>\n",
       "      <th>566</th>\n",
       "      <td>16.60</td>\n",
       "      <td>28.08</td>\n",
       "      <td>108.30</td>\n",
       "      <td>858.1</td>\n",
       "      <td>0.08455</td>\n",
       "      <td>0.10230</td>\n",
       "      <td>0.09251</td>\n",
       "      <td>0.05302</td>\n",
       "      <td>0.1590</td>\n",
       "      <td>0.05648</td>\n",
       "      <td>...</td>\n",
       "      <td>18.980</td>\n",
       "      <td>34.12</td>\n",
       "      <td>126.70</td>\n",
       "      <td>1124.0</td>\n",
       "      <td>0.11390</td>\n",
       "      <td>0.30940</td>\n",
       "      <td>0.3403</td>\n",
       "      <td>0.1418</td>\n",
       "      <td>0.2218</td>\n",
       "      <td>0.07820</td>\n",
       "    </tr>\n",
       "    <tr>\n",
       "      <th>567</th>\n",
       "      <td>20.60</td>\n",
       "      <td>29.33</td>\n",
       "      <td>140.10</td>\n",
       "      <td>1265.0</td>\n",
       "      <td>0.11780</td>\n",
       "      <td>0.27700</td>\n",
       "      <td>0.35140</td>\n",
       "      <td>0.15200</td>\n",
       "      <td>0.2397</td>\n",
       "      <td>0.07016</td>\n",
       "      <td>...</td>\n",
       "      <td>25.740</td>\n",
       "      <td>39.42</td>\n",
       "      <td>184.60</td>\n",
       "      <td>1821.0</td>\n",
       "      <td>0.16500</td>\n",
       "      <td>0.86810</td>\n",
       "      <td>0.9387</td>\n",
       "      <td>0.2650</td>\n",
       "      <td>0.4087</td>\n",
       "      <td>0.12400</td>\n",
       "    </tr>\n",
       "    <tr>\n",
       "      <th>568</th>\n",
       "      <td>7.76</td>\n",
       "      <td>24.54</td>\n",
       "      <td>47.92</td>\n",
       "      <td>181.0</td>\n",
       "      <td>0.05263</td>\n",
       "      <td>0.04362</td>\n",
       "      <td>0.00000</td>\n",
       "      <td>0.00000</td>\n",
       "      <td>0.1587</td>\n",
       "      <td>0.05884</td>\n",
       "      <td>...</td>\n",
       "      <td>9.456</td>\n",
       "      <td>30.37</td>\n",
       "      <td>59.16</td>\n",
       "      <td>268.6</td>\n",
       "      <td>0.08996</td>\n",
       "      <td>0.06444</td>\n",
       "      <td>0.0000</td>\n",
       "      <td>0.0000</td>\n",
       "      <td>0.2871</td>\n",
       "      <td>0.07039</td>\n",
       "    </tr>\n",
       "  </tbody>\n",
       "</table>\n",
       "<p>569 rows × 30 columns</p>\n",
       "</div>"
      ],
      "text/plain": [
       "     radius_mean  texture_mean  perimeter_mean  area_mean  smoothness_mean  \\\n",
       "0          17.99         10.38          122.80     1001.0          0.11840   \n",
       "1          20.57         17.77          132.90     1326.0          0.08474   \n",
       "2          19.69         21.25          130.00     1203.0          0.10960   \n",
       "3          11.42         20.38           77.58      386.1          0.14250   \n",
       "4          20.29         14.34          135.10     1297.0          0.10030   \n",
       "..           ...           ...             ...        ...              ...   \n",
       "564        21.56         22.39          142.00     1479.0          0.11100   \n",
       "565        20.13         28.25          131.20     1261.0          0.09780   \n",
       "566        16.60         28.08          108.30      858.1          0.08455   \n",
       "567        20.60         29.33          140.10     1265.0          0.11780   \n",
       "568         7.76         24.54           47.92      181.0          0.05263   \n",
       "\n",
       "     compactness_mean  concavity_mean  concave points_mean  symmetry_mean  \\\n",
       "0             0.27760         0.30010              0.14710         0.2419   \n",
       "1             0.07864         0.08690              0.07017         0.1812   \n",
       "2             0.15990         0.19740              0.12790         0.2069   \n",
       "3             0.28390         0.24140              0.10520         0.2597   \n",
       "4             0.13280         0.19800              0.10430         0.1809   \n",
       "..                ...             ...                  ...            ...   \n",
       "564           0.11590         0.24390              0.13890         0.1726   \n",
       "565           0.10340         0.14400              0.09791         0.1752   \n",
       "566           0.10230         0.09251              0.05302         0.1590   \n",
       "567           0.27700         0.35140              0.15200         0.2397   \n",
       "568           0.04362         0.00000              0.00000         0.1587   \n",
       "\n",
       "     fractal_dimension_mean  ...  radius_worst  texture_worst  \\\n",
       "0                   0.07871  ...        25.380          17.33   \n",
       "1                   0.05667  ...        24.990          23.41   \n",
       "2                   0.05999  ...        23.570          25.53   \n",
       "3                   0.09744  ...        14.910          26.50   \n",
       "4                   0.05883  ...        22.540          16.67   \n",
       "..                      ...  ...           ...            ...   \n",
       "564                 0.05623  ...        25.450          26.40   \n",
       "565                 0.05533  ...        23.690          38.25   \n",
       "566                 0.05648  ...        18.980          34.12   \n",
       "567                 0.07016  ...        25.740          39.42   \n",
       "568                 0.05884  ...         9.456          30.37   \n",
       "\n",
       "     perimeter_worst  area_worst  smoothness_worst  compactness_worst  \\\n",
       "0             184.60      2019.0           0.16220            0.66560   \n",
       "1             158.80      1956.0           0.12380            0.18660   \n",
       "2             152.50      1709.0           0.14440            0.42450   \n",
       "3              98.87       567.7           0.20980            0.86630   \n",
       "4             152.20      1575.0           0.13740            0.20500   \n",
       "..               ...         ...               ...                ...   \n",
       "564           166.10      2027.0           0.14100            0.21130   \n",
       "565           155.00      1731.0           0.11660            0.19220   \n",
       "566           126.70      1124.0           0.11390            0.30940   \n",
       "567           184.60      1821.0           0.16500            0.86810   \n",
       "568            59.16       268.6           0.08996            0.06444   \n",
       "\n",
       "     concavity_worst  concave points_worst  symmetry_worst  \\\n",
       "0             0.7119                0.2654          0.4601   \n",
       "1             0.2416                0.1860          0.2750   \n",
       "2             0.4504                0.2430          0.3613   \n",
       "3             0.6869                0.2575          0.6638   \n",
       "4             0.4000                0.1625          0.2364   \n",
       "..               ...                   ...             ...   \n",
       "564           0.4107                0.2216          0.2060   \n",
       "565           0.3215                0.1628          0.2572   \n",
       "566           0.3403                0.1418          0.2218   \n",
       "567           0.9387                0.2650          0.4087   \n",
       "568           0.0000                0.0000          0.2871   \n",
       "\n",
       "     fractal_dimension_worst  \n",
       "0                    0.11890  \n",
       "1                    0.08902  \n",
       "2                    0.08758  \n",
       "3                    0.17300  \n",
       "4                    0.07678  \n",
       "..                       ...  \n",
       "564                  0.07115  \n",
       "565                  0.06637  \n",
       "566                  0.07820  \n",
       "567                  0.12400  \n",
       "568                  0.07039  \n",
       "\n",
       "[569 rows x 30 columns]"
      ]
     },
     "execution_count": 32,
     "metadata": {},
     "output_type": "execute_result"
    }
   ],
   "source": [
    "X"
   ]
  },
  {
   "cell_type": "code",
   "execution_count": 33,
   "id": "7fc4f492",
   "metadata": {
    "execution": {
     "iopub.execute_input": "2024-05-09T13:57:35.482718Z",
     "iopub.status.busy": "2024-05-09T13:57:35.482314Z",
     "iopub.status.idle": "2024-05-09T13:57:35.491047Z",
     "shell.execute_reply": "2024-05-09T13:57:35.489903Z"
    },
    "papermill": {
     "duration": 0.056143,
     "end_time": "2024-05-09T13:57:35.493436",
     "exception": false,
     "start_time": "2024-05-09T13:57:35.437293",
     "status": "completed"
    },
    "tags": []
   },
   "outputs": [
    {
     "data": {
      "text/plain": [
       "0      1\n",
       "1      1\n",
       "2      1\n",
       "3      1\n",
       "4      1\n",
       "      ..\n",
       "564    1\n",
       "565    1\n",
       "566    1\n",
       "567    1\n",
       "568    0\n",
       "Name: diagnosis, Length: 569, dtype: int64"
      ]
     },
     "execution_count": 33,
     "metadata": {},
     "output_type": "execute_result"
    }
   ],
   "source": [
    "y"
   ]
  },
  {
   "cell_type": "code",
   "execution_count": 34,
   "id": "a46c7b9f",
   "metadata": {
    "execution": {
     "iopub.execute_input": "2024-05-09T13:57:35.583849Z",
     "iopub.status.busy": "2024-05-09T13:57:35.583393Z",
     "iopub.status.idle": "2024-05-09T13:57:35.593541Z",
     "shell.execute_reply": "2024-05-09T13:57:35.592384Z"
    },
    "papermill": {
     "duration": 0.058337,
     "end_time": "2024-05-09T13:57:35.596079",
     "exception": false,
     "start_time": "2024-05-09T13:57:35.537742",
     "status": "completed"
    },
    "tags": []
   },
   "outputs": [],
   "source": [
    "X_train, x_test, Y_train, y_test = train_test_split(X,y,test_size=0.2,random_state=43)"
   ]
  },
  {
   "cell_type": "code",
   "execution_count": 35,
   "id": "6f2a54f7",
   "metadata": {
    "execution": {
     "iopub.execute_input": "2024-05-09T13:57:35.687518Z",
     "iopub.status.busy": "2024-05-09T13:57:35.686668Z",
     "iopub.status.idle": "2024-05-09T13:57:35.725903Z",
     "shell.execute_reply": "2024-05-09T13:57:35.724772Z"
    },
    "papermill": {
     "duration": 0.088222,
     "end_time": "2024-05-09T13:57:35.728685",
     "exception": false,
     "start_time": "2024-05-09T13:57:35.640463",
     "status": "completed"
    },
    "tags": []
   },
   "outputs": [
    {
     "data": {
      "text/html": [
       "<div>\n",
       "<style scoped>\n",
       "    .dataframe tbody tr th:only-of-type {\n",
       "        vertical-align: middle;\n",
       "    }\n",
       "\n",
       "    .dataframe tbody tr th {\n",
       "        vertical-align: top;\n",
       "    }\n",
       "\n",
       "    .dataframe thead th {\n",
       "        text-align: right;\n",
       "    }\n",
       "</style>\n",
       "<table border=\"1\" class=\"dataframe\">\n",
       "  <thead>\n",
       "    <tr style=\"text-align: right;\">\n",
       "      <th></th>\n",
       "      <th>radius_mean</th>\n",
       "      <th>texture_mean</th>\n",
       "      <th>perimeter_mean</th>\n",
       "      <th>area_mean</th>\n",
       "      <th>smoothness_mean</th>\n",
       "      <th>compactness_mean</th>\n",
       "      <th>concavity_mean</th>\n",
       "      <th>concave points_mean</th>\n",
       "      <th>symmetry_mean</th>\n",
       "      <th>fractal_dimension_mean</th>\n",
       "      <th>...</th>\n",
       "      <th>radius_worst</th>\n",
       "      <th>texture_worst</th>\n",
       "      <th>perimeter_worst</th>\n",
       "      <th>area_worst</th>\n",
       "      <th>smoothness_worst</th>\n",
       "      <th>compactness_worst</th>\n",
       "      <th>concavity_worst</th>\n",
       "      <th>concave points_worst</th>\n",
       "      <th>symmetry_worst</th>\n",
       "      <th>fractal_dimension_worst</th>\n",
       "    </tr>\n",
       "  </thead>\n",
       "  <tbody>\n",
       "    <tr>\n",
       "      <th>415</th>\n",
       "      <td>11.89</td>\n",
       "      <td>21.17</td>\n",
       "      <td>76.39</td>\n",
       "      <td>433.8</td>\n",
       "      <td>0.09773</td>\n",
       "      <td>0.08120</td>\n",
       "      <td>0.025550</td>\n",
       "      <td>0.021790</td>\n",
       "      <td>0.2019</td>\n",
       "      <td>0.06290</td>\n",
       "      <td>...</td>\n",
       "      <td>13.05</td>\n",
       "      <td>27.21</td>\n",
       "      <td>85.09</td>\n",
       "      <td>522.9</td>\n",
       "      <td>0.1426</td>\n",
       "      <td>0.21870</td>\n",
       "      <td>0.116400</td>\n",
       "      <td>0.08263</td>\n",
       "      <td>0.3075</td>\n",
       "      <td>0.07351</td>\n",
       "    </tr>\n",
       "    <tr>\n",
       "      <th>256</th>\n",
       "      <td>19.55</td>\n",
       "      <td>28.77</td>\n",
       "      <td>133.60</td>\n",
       "      <td>1207.0</td>\n",
       "      <td>0.09260</td>\n",
       "      <td>0.20630</td>\n",
       "      <td>0.178400</td>\n",
       "      <td>0.114400</td>\n",
       "      <td>0.1893</td>\n",
       "      <td>0.06232</td>\n",
       "      <td>...</td>\n",
       "      <td>25.05</td>\n",
       "      <td>36.27</td>\n",
       "      <td>178.60</td>\n",
       "      <td>1926.0</td>\n",
       "      <td>0.1281</td>\n",
       "      <td>0.53290</td>\n",
       "      <td>0.425100</td>\n",
       "      <td>0.19410</td>\n",
       "      <td>0.2818</td>\n",
       "      <td>0.10050</td>\n",
       "    </tr>\n",
       "    <tr>\n",
       "      <th>420</th>\n",
       "      <td>11.57</td>\n",
       "      <td>19.04</td>\n",
       "      <td>74.20</td>\n",
       "      <td>409.7</td>\n",
       "      <td>0.08546</td>\n",
       "      <td>0.07722</td>\n",
       "      <td>0.054850</td>\n",
       "      <td>0.014280</td>\n",
       "      <td>0.2031</td>\n",
       "      <td>0.06267</td>\n",
       "      <td>...</td>\n",
       "      <td>13.07</td>\n",
       "      <td>26.98</td>\n",
       "      <td>86.43</td>\n",
       "      <td>520.5</td>\n",
       "      <td>0.1249</td>\n",
       "      <td>0.19370</td>\n",
       "      <td>0.256000</td>\n",
       "      <td>0.06664</td>\n",
       "      <td>0.3035</td>\n",
       "      <td>0.08284</td>\n",
       "    </tr>\n",
       "    <tr>\n",
       "      <th>448</th>\n",
       "      <td>14.53</td>\n",
       "      <td>19.34</td>\n",
       "      <td>94.25</td>\n",
       "      <td>659.7</td>\n",
       "      <td>0.08388</td>\n",
       "      <td>0.07800</td>\n",
       "      <td>0.088170</td>\n",
       "      <td>0.029250</td>\n",
       "      <td>0.1473</td>\n",
       "      <td>0.05746</td>\n",
       "      <td>...</td>\n",
       "      <td>16.30</td>\n",
       "      <td>28.39</td>\n",
       "      <td>108.10</td>\n",
       "      <td>830.5</td>\n",
       "      <td>0.1089</td>\n",
       "      <td>0.26490</td>\n",
       "      <td>0.377900</td>\n",
       "      <td>0.09594</td>\n",
       "      <td>0.2471</td>\n",
       "      <td>0.07463</td>\n",
       "    </tr>\n",
       "    <tr>\n",
       "      <th>195</th>\n",
       "      <td>12.91</td>\n",
       "      <td>16.33</td>\n",
       "      <td>82.53</td>\n",
       "      <td>516.4</td>\n",
       "      <td>0.07941</td>\n",
       "      <td>0.05366</td>\n",
       "      <td>0.038730</td>\n",
       "      <td>0.023770</td>\n",
       "      <td>0.1829</td>\n",
       "      <td>0.05667</td>\n",
       "      <td>...</td>\n",
       "      <td>13.88</td>\n",
       "      <td>22.00</td>\n",
       "      <td>90.81</td>\n",
       "      <td>600.6</td>\n",
       "      <td>0.1097</td>\n",
       "      <td>0.15060</td>\n",
       "      <td>0.176400</td>\n",
       "      <td>0.08235</td>\n",
       "      <td>0.3024</td>\n",
       "      <td>0.06949</td>\n",
       "    </tr>\n",
       "    <tr>\n",
       "      <th>...</th>\n",
       "      <td>...</td>\n",
       "      <td>...</td>\n",
       "      <td>...</td>\n",
       "      <td>...</td>\n",
       "      <td>...</td>\n",
       "      <td>...</td>\n",
       "      <td>...</td>\n",
       "      <td>...</td>\n",
       "      <td>...</td>\n",
       "      <td>...</td>\n",
       "      <td>...</td>\n",
       "      <td>...</td>\n",
       "      <td>...</td>\n",
       "      <td>...</td>\n",
       "      <td>...</td>\n",
       "      <td>...</td>\n",
       "      <td>...</td>\n",
       "      <td>...</td>\n",
       "      <td>...</td>\n",
       "      <td>...</td>\n",
       "      <td>...</td>\n",
       "    </tr>\n",
       "    <tr>\n",
       "      <th>16</th>\n",
       "      <td>14.68</td>\n",
       "      <td>20.13</td>\n",
       "      <td>94.74</td>\n",
       "      <td>684.5</td>\n",
       "      <td>0.09867</td>\n",
       "      <td>0.07200</td>\n",
       "      <td>0.073950</td>\n",
       "      <td>0.052590</td>\n",
       "      <td>0.1586</td>\n",
       "      <td>0.05922</td>\n",
       "      <td>...</td>\n",
       "      <td>19.07</td>\n",
       "      <td>30.88</td>\n",
       "      <td>123.40</td>\n",
       "      <td>1138.0</td>\n",
       "      <td>0.1464</td>\n",
       "      <td>0.18710</td>\n",
       "      <td>0.291400</td>\n",
       "      <td>0.16090</td>\n",
       "      <td>0.3029</td>\n",
       "      <td>0.08216</td>\n",
       "    </tr>\n",
       "    <tr>\n",
       "      <th>58</th>\n",
       "      <td>13.05</td>\n",
       "      <td>19.31</td>\n",
       "      <td>82.61</td>\n",
       "      <td>527.2</td>\n",
       "      <td>0.08060</td>\n",
       "      <td>0.03789</td>\n",
       "      <td>0.000692</td>\n",
       "      <td>0.004167</td>\n",
       "      <td>0.1819</td>\n",
       "      <td>0.05501</td>\n",
       "      <td>...</td>\n",
       "      <td>14.23</td>\n",
       "      <td>22.25</td>\n",
       "      <td>90.24</td>\n",
       "      <td>624.1</td>\n",
       "      <td>0.1021</td>\n",
       "      <td>0.06191</td>\n",
       "      <td>0.001845</td>\n",
       "      <td>0.01111</td>\n",
       "      <td>0.2439</td>\n",
       "      <td>0.06289</td>\n",
       "    </tr>\n",
       "    <tr>\n",
       "      <th>277</th>\n",
       "      <td>18.81</td>\n",
       "      <td>19.98</td>\n",
       "      <td>120.90</td>\n",
       "      <td>1102.0</td>\n",
       "      <td>0.08923</td>\n",
       "      <td>0.05884</td>\n",
       "      <td>0.080200</td>\n",
       "      <td>0.058430</td>\n",
       "      <td>0.1550</td>\n",
       "      <td>0.04996</td>\n",
       "      <td>...</td>\n",
       "      <td>19.96</td>\n",
       "      <td>24.30</td>\n",
       "      <td>129.00</td>\n",
       "      <td>1236.0</td>\n",
       "      <td>0.1243</td>\n",
       "      <td>0.11600</td>\n",
       "      <td>0.221000</td>\n",
       "      <td>0.12940</td>\n",
       "      <td>0.2567</td>\n",
       "      <td>0.05737</td>\n",
       "    </tr>\n",
       "    <tr>\n",
       "      <th>255</th>\n",
       "      <td>13.96</td>\n",
       "      <td>17.05</td>\n",
       "      <td>91.43</td>\n",
       "      <td>602.4</td>\n",
       "      <td>0.10960</td>\n",
       "      <td>0.12790</td>\n",
       "      <td>0.097890</td>\n",
       "      <td>0.052460</td>\n",
       "      <td>0.1908</td>\n",
       "      <td>0.06130</td>\n",
       "      <td>...</td>\n",
       "      <td>16.39</td>\n",
       "      <td>22.07</td>\n",
       "      <td>108.10</td>\n",
       "      <td>826.0</td>\n",
       "      <td>0.1512</td>\n",
       "      <td>0.32620</td>\n",
       "      <td>0.320900</td>\n",
       "      <td>0.13740</td>\n",
       "      <td>0.3068</td>\n",
       "      <td>0.07957</td>\n",
       "    </tr>\n",
       "    <tr>\n",
       "      <th>320</th>\n",
       "      <td>10.25</td>\n",
       "      <td>16.18</td>\n",
       "      <td>66.52</td>\n",
       "      <td>324.2</td>\n",
       "      <td>0.10610</td>\n",
       "      <td>0.11110</td>\n",
       "      <td>0.067260</td>\n",
       "      <td>0.039650</td>\n",
       "      <td>0.1743</td>\n",
       "      <td>0.07279</td>\n",
       "      <td>...</td>\n",
       "      <td>11.28</td>\n",
       "      <td>20.61</td>\n",
       "      <td>71.53</td>\n",
       "      <td>390.4</td>\n",
       "      <td>0.1402</td>\n",
       "      <td>0.23600</td>\n",
       "      <td>0.189800</td>\n",
       "      <td>0.09744</td>\n",
       "      <td>0.2608</td>\n",
       "      <td>0.09702</td>\n",
       "    </tr>\n",
       "  </tbody>\n",
       "</table>\n",
       "<p>455 rows × 30 columns</p>\n",
       "</div>"
      ],
      "text/plain": [
       "     radius_mean  texture_mean  perimeter_mean  area_mean  smoothness_mean  \\\n",
       "415        11.89         21.17           76.39      433.8          0.09773   \n",
       "256        19.55         28.77          133.60     1207.0          0.09260   \n",
       "420        11.57         19.04           74.20      409.7          0.08546   \n",
       "448        14.53         19.34           94.25      659.7          0.08388   \n",
       "195        12.91         16.33           82.53      516.4          0.07941   \n",
       "..           ...           ...             ...        ...              ...   \n",
       "16         14.68         20.13           94.74      684.5          0.09867   \n",
       "58         13.05         19.31           82.61      527.2          0.08060   \n",
       "277        18.81         19.98          120.90     1102.0          0.08923   \n",
       "255        13.96         17.05           91.43      602.4          0.10960   \n",
       "320        10.25         16.18           66.52      324.2          0.10610   \n",
       "\n",
       "     compactness_mean  concavity_mean  concave points_mean  symmetry_mean  \\\n",
       "415           0.08120        0.025550             0.021790         0.2019   \n",
       "256           0.20630        0.178400             0.114400         0.1893   \n",
       "420           0.07722        0.054850             0.014280         0.2031   \n",
       "448           0.07800        0.088170             0.029250         0.1473   \n",
       "195           0.05366        0.038730             0.023770         0.1829   \n",
       "..                ...             ...                  ...            ...   \n",
       "16            0.07200        0.073950             0.052590         0.1586   \n",
       "58            0.03789        0.000692             0.004167         0.1819   \n",
       "277           0.05884        0.080200             0.058430         0.1550   \n",
       "255           0.12790        0.097890             0.052460         0.1908   \n",
       "320           0.11110        0.067260             0.039650         0.1743   \n",
       "\n",
       "     fractal_dimension_mean  ...  radius_worst  texture_worst  \\\n",
       "415                 0.06290  ...         13.05          27.21   \n",
       "256                 0.06232  ...         25.05          36.27   \n",
       "420                 0.06267  ...         13.07          26.98   \n",
       "448                 0.05746  ...         16.30          28.39   \n",
       "195                 0.05667  ...         13.88          22.00   \n",
       "..                      ...  ...           ...            ...   \n",
       "16                  0.05922  ...         19.07          30.88   \n",
       "58                  0.05501  ...         14.23          22.25   \n",
       "277                 0.04996  ...         19.96          24.30   \n",
       "255                 0.06130  ...         16.39          22.07   \n",
       "320                 0.07279  ...         11.28          20.61   \n",
       "\n",
       "     perimeter_worst  area_worst  smoothness_worst  compactness_worst  \\\n",
       "415            85.09       522.9            0.1426            0.21870   \n",
       "256           178.60      1926.0            0.1281            0.53290   \n",
       "420            86.43       520.5            0.1249            0.19370   \n",
       "448           108.10       830.5            0.1089            0.26490   \n",
       "195            90.81       600.6            0.1097            0.15060   \n",
       "..               ...         ...               ...                ...   \n",
       "16            123.40      1138.0            0.1464            0.18710   \n",
       "58             90.24       624.1            0.1021            0.06191   \n",
       "277           129.00      1236.0            0.1243            0.11600   \n",
       "255           108.10       826.0            0.1512            0.32620   \n",
       "320            71.53       390.4            0.1402            0.23600   \n",
       "\n",
       "     concavity_worst  concave points_worst  symmetry_worst  \\\n",
       "415         0.116400               0.08263          0.3075   \n",
       "256         0.425100               0.19410          0.2818   \n",
       "420         0.256000               0.06664          0.3035   \n",
       "448         0.377900               0.09594          0.2471   \n",
       "195         0.176400               0.08235          0.3024   \n",
       "..               ...                   ...             ...   \n",
       "16          0.291400               0.16090          0.3029   \n",
       "58          0.001845               0.01111          0.2439   \n",
       "277         0.221000               0.12940          0.2567   \n",
       "255         0.320900               0.13740          0.3068   \n",
       "320         0.189800               0.09744          0.2608   \n",
       "\n",
       "     fractal_dimension_worst  \n",
       "415                  0.07351  \n",
       "256                  0.10050  \n",
       "420                  0.08284  \n",
       "448                  0.07463  \n",
       "195                  0.06949  \n",
       "..                       ...  \n",
       "16                   0.08216  \n",
       "58                   0.06289  \n",
       "277                  0.05737  \n",
       "255                  0.07957  \n",
       "320                  0.09702  \n",
       "\n",
       "[455 rows x 30 columns]"
      ]
     },
     "execution_count": 35,
     "metadata": {},
     "output_type": "execute_result"
    }
   ],
   "source": [
    "X_train"
   ]
  },
  {
   "cell_type": "code",
   "execution_count": 36,
   "id": "ddeea978",
   "metadata": {
    "execution": {
     "iopub.execute_input": "2024-05-09T13:57:35.822317Z",
     "iopub.status.busy": "2024-05-09T13:57:35.821857Z",
     "iopub.status.idle": "2024-05-09T13:57:35.861150Z",
     "shell.execute_reply": "2024-05-09T13:57:35.859981Z"
    },
    "papermill": {
     "duration": 0.090115,
     "end_time": "2024-05-09T13:57:35.863684",
     "exception": false,
     "start_time": "2024-05-09T13:57:35.773569",
     "status": "completed"
    },
    "tags": []
   },
   "outputs": [
    {
     "data": {
      "text/html": [
       "<div>\n",
       "<style scoped>\n",
       "    .dataframe tbody tr th:only-of-type {\n",
       "        vertical-align: middle;\n",
       "    }\n",
       "\n",
       "    .dataframe tbody tr th {\n",
       "        vertical-align: top;\n",
       "    }\n",
       "\n",
       "    .dataframe thead th {\n",
       "        text-align: right;\n",
       "    }\n",
       "</style>\n",
       "<table border=\"1\" class=\"dataframe\">\n",
       "  <thead>\n",
       "    <tr style=\"text-align: right;\">\n",
       "      <th></th>\n",
       "      <th>radius_mean</th>\n",
       "      <th>texture_mean</th>\n",
       "      <th>perimeter_mean</th>\n",
       "      <th>area_mean</th>\n",
       "      <th>smoothness_mean</th>\n",
       "      <th>compactness_mean</th>\n",
       "      <th>concavity_mean</th>\n",
       "      <th>concave points_mean</th>\n",
       "      <th>symmetry_mean</th>\n",
       "      <th>fractal_dimension_mean</th>\n",
       "      <th>...</th>\n",
       "      <th>radius_worst</th>\n",
       "      <th>texture_worst</th>\n",
       "      <th>perimeter_worst</th>\n",
       "      <th>area_worst</th>\n",
       "      <th>smoothness_worst</th>\n",
       "      <th>compactness_worst</th>\n",
       "      <th>concavity_worst</th>\n",
       "      <th>concave points_worst</th>\n",
       "      <th>symmetry_worst</th>\n",
       "      <th>fractal_dimension_worst</th>\n",
       "    </tr>\n",
       "  </thead>\n",
       "  <tbody>\n",
       "    <tr>\n",
       "      <th>465</th>\n",
       "      <td>13.240</td>\n",
       "      <td>20.13</td>\n",
       "      <td>86.87</td>\n",
       "      <td>542.9</td>\n",
       "      <td>0.08284</td>\n",
       "      <td>0.12230</td>\n",
       "      <td>0.10100</td>\n",
       "      <td>0.028330</td>\n",
       "      <td>0.1601</td>\n",
       "      <td>0.06432</td>\n",
       "      <td>...</td>\n",
       "      <td>15.440</td>\n",
       "      <td>25.50</td>\n",
       "      <td>115.00</td>\n",
       "      <td>733.5</td>\n",
       "      <td>0.12010</td>\n",
       "      <td>0.56460</td>\n",
       "      <td>0.65560</td>\n",
       "      <td>0.13570</td>\n",
       "      <td>0.2845</td>\n",
       "      <td>0.12490</td>\n",
       "    </tr>\n",
       "    <tr>\n",
       "      <th>561</th>\n",
       "      <td>11.200</td>\n",
       "      <td>29.37</td>\n",
       "      <td>70.67</td>\n",
       "      <td>386.0</td>\n",
       "      <td>0.07449</td>\n",
       "      <td>0.03558</td>\n",
       "      <td>0.00000</td>\n",
       "      <td>0.000000</td>\n",
       "      <td>0.1060</td>\n",
       "      <td>0.05502</td>\n",
       "      <td>...</td>\n",
       "      <td>11.920</td>\n",
       "      <td>38.30</td>\n",
       "      <td>75.19</td>\n",
       "      <td>439.6</td>\n",
       "      <td>0.09267</td>\n",
       "      <td>0.05494</td>\n",
       "      <td>0.00000</td>\n",
       "      <td>0.00000</td>\n",
       "      <td>0.1566</td>\n",
       "      <td>0.05905</td>\n",
       "    </tr>\n",
       "    <tr>\n",
       "      <th>35</th>\n",
       "      <td>16.740</td>\n",
       "      <td>21.59</td>\n",
       "      <td>110.10</td>\n",
       "      <td>869.5</td>\n",
       "      <td>0.09610</td>\n",
       "      <td>0.13360</td>\n",
       "      <td>0.13480</td>\n",
       "      <td>0.060180</td>\n",
       "      <td>0.1896</td>\n",
       "      <td>0.05656</td>\n",
       "      <td>...</td>\n",
       "      <td>20.010</td>\n",
       "      <td>29.02</td>\n",
       "      <td>133.50</td>\n",
       "      <td>1229.0</td>\n",
       "      <td>0.15630</td>\n",
       "      <td>0.38350</td>\n",
       "      <td>0.54090</td>\n",
       "      <td>0.18130</td>\n",
       "      <td>0.4863</td>\n",
       "      <td>0.08633</td>\n",
       "    </tr>\n",
       "    <tr>\n",
       "      <th>47</th>\n",
       "      <td>13.170</td>\n",
       "      <td>18.66</td>\n",
       "      <td>85.98</td>\n",
       "      <td>534.6</td>\n",
       "      <td>0.11580</td>\n",
       "      <td>0.12310</td>\n",
       "      <td>0.12260</td>\n",
       "      <td>0.073400</td>\n",
       "      <td>0.2128</td>\n",
       "      <td>0.06777</td>\n",
       "      <td>...</td>\n",
       "      <td>15.670</td>\n",
       "      <td>27.95</td>\n",
       "      <td>102.80</td>\n",
       "      <td>759.4</td>\n",
       "      <td>0.17860</td>\n",
       "      <td>0.41660</td>\n",
       "      <td>0.50060</td>\n",
       "      <td>0.20880</td>\n",
       "      <td>0.3900</td>\n",
       "      <td>0.11790</td>\n",
       "    </tr>\n",
       "    <tr>\n",
       "      <th>141</th>\n",
       "      <td>16.110</td>\n",
       "      <td>18.05</td>\n",
       "      <td>105.10</td>\n",
       "      <td>813.0</td>\n",
       "      <td>0.09721</td>\n",
       "      <td>0.11370</td>\n",
       "      <td>0.09447</td>\n",
       "      <td>0.059430</td>\n",
       "      <td>0.1861</td>\n",
       "      <td>0.06248</td>\n",
       "      <td>...</td>\n",
       "      <td>19.920</td>\n",
       "      <td>25.27</td>\n",
       "      <td>129.00</td>\n",
       "      <td>1233.0</td>\n",
       "      <td>0.13140</td>\n",
       "      <td>0.22360</td>\n",
       "      <td>0.28020</td>\n",
       "      <td>0.12160</td>\n",
       "      <td>0.2792</td>\n",
       "      <td>0.08158</td>\n",
       "    </tr>\n",
       "    <tr>\n",
       "      <th>...</th>\n",
       "      <td>...</td>\n",
       "      <td>...</td>\n",
       "      <td>...</td>\n",
       "      <td>...</td>\n",
       "      <td>...</td>\n",
       "      <td>...</td>\n",
       "      <td>...</td>\n",
       "      <td>...</td>\n",
       "      <td>...</td>\n",
       "      <td>...</td>\n",
       "      <td>...</td>\n",
       "      <td>...</td>\n",
       "      <td>...</td>\n",
       "      <td>...</td>\n",
       "      <td>...</td>\n",
       "      <td>...</td>\n",
       "      <td>...</td>\n",
       "      <td>...</td>\n",
       "      <td>...</td>\n",
       "      <td>...</td>\n",
       "      <td>...</td>\n",
       "    </tr>\n",
       "    <tr>\n",
       "      <th>143</th>\n",
       "      <td>12.900</td>\n",
       "      <td>15.92</td>\n",
       "      <td>83.74</td>\n",
       "      <td>512.2</td>\n",
       "      <td>0.08677</td>\n",
       "      <td>0.09509</td>\n",
       "      <td>0.04894</td>\n",
       "      <td>0.030880</td>\n",
       "      <td>0.1778</td>\n",
       "      <td>0.06235</td>\n",
       "      <td>...</td>\n",
       "      <td>14.480</td>\n",
       "      <td>21.82</td>\n",
       "      <td>97.17</td>\n",
       "      <td>643.8</td>\n",
       "      <td>0.13120</td>\n",
       "      <td>0.25480</td>\n",
       "      <td>0.20900</td>\n",
       "      <td>0.10120</td>\n",
       "      <td>0.3549</td>\n",
       "      <td>0.08118</td>\n",
       "    </tr>\n",
       "    <tr>\n",
       "      <th>396</th>\n",
       "      <td>13.510</td>\n",
       "      <td>18.89</td>\n",
       "      <td>88.10</td>\n",
       "      <td>558.1</td>\n",
       "      <td>0.10590</td>\n",
       "      <td>0.11470</td>\n",
       "      <td>0.08580</td>\n",
       "      <td>0.053810</td>\n",
       "      <td>0.1806</td>\n",
       "      <td>0.06079</td>\n",
       "      <td>...</td>\n",
       "      <td>14.800</td>\n",
       "      <td>27.20</td>\n",
       "      <td>97.33</td>\n",
       "      <td>675.2</td>\n",
       "      <td>0.14280</td>\n",
       "      <td>0.25700</td>\n",
       "      <td>0.34380</td>\n",
       "      <td>0.14530</td>\n",
       "      <td>0.2666</td>\n",
       "      <td>0.07686</td>\n",
       "    </tr>\n",
       "    <tr>\n",
       "      <th>442</th>\n",
       "      <td>13.780</td>\n",
       "      <td>15.79</td>\n",
       "      <td>88.37</td>\n",
       "      <td>585.9</td>\n",
       "      <td>0.08817</td>\n",
       "      <td>0.06718</td>\n",
       "      <td>0.01055</td>\n",
       "      <td>0.009937</td>\n",
       "      <td>0.1405</td>\n",
       "      <td>0.05848</td>\n",
       "      <td>...</td>\n",
       "      <td>15.270</td>\n",
       "      <td>17.50</td>\n",
       "      <td>97.90</td>\n",
       "      <td>706.6</td>\n",
       "      <td>0.10720</td>\n",
       "      <td>0.10710</td>\n",
       "      <td>0.03517</td>\n",
       "      <td>0.03312</td>\n",
       "      <td>0.1859</td>\n",
       "      <td>0.06810</td>\n",
       "    </tr>\n",
       "    <tr>\n",
       "      <th>71</th>\n",
       "      <td>8.888</td>\n",
       "      <td>14.64</td>\n",
       "      <td>58.79</td>\n",
       "      <td>244.0</td>\n",
       "      <td>0.09783</td>\n",
       "      <td>0.15310</td>\n",
       "      <td>0.08606</td>\n",
       "      <td>0.028720</td>\n",
       "      <td>0.1902</td>\n",
       "      <td>0.08980</td>\n",
       "      <td>...</td>\n",
       "      <td>9.733</td>\n",
       "      <td>15.67</td>\n",
       "      <td>62.56</td>\n",
       "      <td>284.4</td>\n",
       "      <td>0.12070</td>\n",
       "      <td>0.24360</td>\n",
       "      <td>0.14340</td>\n",
       "      <td>0.04786</td>\n",
       "      <td>0.2254</td>\n",
       "      <td>0.10840</td>\n",
       "    </tr>\n",
       "    <tr>\n",
       "      <th>437</th>\n",
       "      <td>14.040</td>\n",
       "      <td>15.98</td>\n",
       "      <td>89.78</td>\n",
       "      <td>611.2</td>\n",
       "      <td>0.08458</td>\n",
       "      <td>0.05895</td>\n",
       "      <td>0.03534</td>\n",
       "      <td>0.029440</td>\n",
       "      <td>0.1714</td>\n",
       "      <td>0.05898</td>\n",
       "      <td>...</td>\n",
       "      <td>15.660</td>\n",
       "      <td>21.58</td>\n",
       "      <td>101.20</td>\n",
       "      <td>750.0</td>\n",
       "      <td>0.11950</td>\n",
       "      <td>0.12520</td>\n",
       "      <td>0.11170</td>\n",
       "      <td>0.07453</td>\n",
       "      <td>0.2725</td>\n",
       "      <td>0.07234</td>\n",
       "    </tr>\n",
       "  </tbody>\n",
       "</table>\n",
       "<p>114 rows × 30 columns</p>\n",
       "</div>"
      ],
      "text/plain": [
       "     radius_mean  texture_mean  perimeter_mean  area_mean  smoothness_mean  \\\n",
       "465       13.240         20.13           86.87      542.9          0.08284   \n",
       "561       11.200         29.37           70.67      386.0          0.07449   \n",
       "35        16.740         21.59          110.10      869.5          0.09610   \n",
       "47        13.170         18.66           85.98      534.6          0.11580   \n",
       "141       16.110         18.05          105.10      813.0          0.09721   \n",
       "..           ...           ...             ...        ...              ...   \n",
       "143       12.900         15.92           83.74      512.2          0.08677   \n",
       "396       13.510         18.89           88.10      558.1          0.10590   \n",
       "442       13.780         15.79           88.37      585.9          0.08817   \n",
       "71         8.888         14.64           58.79      244.0          0.09783   \n",
       "437       14.040         15.98           89.78      611.2          0.08458   \n",
       "\n",
       "     compactness_mean  concavity_mean  concave points_mean  symmetry_mean  \\\n",
       "465           0.12230         0.10100             0.028330         0.1601   \n",
       "561           0.03558         0.00000             0.000000         0.1060   \n",
       "35            0.13360         0.13480             0.060180         0.1896   \n",
       "47            0.12310         0.12260             0.073400         0.2128   \n",
       "141           0.11370         0.09447             0.059430         0.1861   \n",
       "..                ...             ...                  ...            ...   \n",
       "143           0.09509         0.04894             0.030880         0.1778   \n",
       "396           0.11470         0.08580             0.053810         0.1806   \n",
       "442           0.06718         0.01055             0.009937         0.1405   \n",
       "71            0.15310         0.08606             0.028720         0.1902   \n",
       "437           0.05895         0.03534             0.029440         0.1714   \n",
       "\n",
       "     fractal_dimension_mean  ...  radius_worst  texture_worst  \\\n",
       "465                 0.06432  ...        15.440          25.50   \n",
       "561                 0.05502  ...        11.920          38.30   \n",
       "35                  0.05656  ...        20.010          29.02   \n",
       "47                  0.06777  ...        15.670          27.95   \n",
       "141                 0.06248  ...        19.920          25.27   \n",
       "..                      ...  ...           ...            ...   \n",
       "143                 0.06235  ...        14.480          21.82   \n",
       "396                 0.06079  ...        14.800          27.20   \n",
       "442                 0.05848  ...        15.270          17.50   \n",
       "71                  0.08980  ...         9.733          15.67   \n",
       "437                 0.05898  ...        15.660          21.58   \n",
       "\n",
       "     perimeter_worst  area_worst  smoothness_worst  compactness_worst  \\\n",
       "465           115.00       733.5           0.12010            0.56460   \n",
       "561            75.19       439.6           0.09267            0.05494   \n",
       "35            133.50      1229.0           0.15630            0.38350   \n",
       "47            102.80       759.4           0.17860            0.41660   \n",
       "141           129.00      1233.0           0.13140            0.22360   \n",
       "..               ...         ...               ...                ...   \n",
       "143            97.17       643.8           0.13120            0.25480   \n",
       "396            97.33       675.2           0.14280            0.25700   \n",
       "442            97.90       706.6           0.10720            0.10710   \n",
       "71             62.56       284.4           0.12070            0.24360   \n",
       "437           101.20       750.0           0.11950            0.12520   \n",
       "\n",
       "     concavity_worst  concave points_worst  symmetry_worst  \\\n",
       "465          0.65560               0.13570          0.2845   \n",
       "561          0.00000               0.00000          0.1566   \n",
       "35           0.54090               0.18130          0.4863   \n",
       "47           0.50060               0.20880          0.3900   \n",
       "141          0.28020               0.12160          0.2792   \n",
       "..               ...                   ...             ...   \n",
       "143          0.20900               0.10120          0.3549   \n",
       "396          0.34380               0.14530          0.2666   \n",
       "442          0.03517               0.03312          0.1859   \n",
       "71           0.14340               0.04786          0.2254   \n",
       "437          0.11170               0.07453          0.2725   \n",
       "\n",
       "     fractal_dimension_worst  \n",
       "465                  0.12490  \n",
       "561                  0.05905  \n",
       "35                   0.08633  \n",
       "47                   0.11790  \n",
       "141                  0.08158  \n",
       "..                       ...  \n",
       "143                  0.08118  \n",
       "396                  0.07686  \n",
       "442                  0.06810  \n",
       "71                   0.10840  \n",
       "437                  0.07234  \n",
       "\n",
       "[114 rows x 30 columns]"
      ]
     },
     "execution_count": 36,
     "metadata": {},
     "output_type": "execute_result"
    }
   ],
   "source": [
    "x_test"
   ]
  },
  {
   "cell_type": "code",
   "execution_count": 37,
   "id": "8b17352a",
   "metadata": {
    "execution": {
     "iopub.execute_input": "2024-05-09T13:57:35.962067Z",
     "iopub.status.busy": "2024-05-09T13:57:35.961044Z",
     "iopub.status.idle": "2024-05-09T13:57:35.969421Z",
     "shell.execute_reply": "2024-05-09T13:57:35.968282Z"
    },
    "papermill": {
     "duration": 0.059554,
     "end_time": "2024-05-09T13:57:35.971796",
     "exception": false,
     "start_time": "2024-05-09T13:57:35.912242",
     "status": "completed"
    },
    "tags": []
   },
   "outputs": [
    {
     "data": {
      "text/plain": [
       "415    0\n",
       "256    1\n",
       "420    0\n",
       "448    0\n",
       "195    0\n",
       "      ..\n",
       "16     1\n",
       "58     0\n",
       "277    1\n",
       "255    1\n",
       "320    0\n",
       "Name: diagnosis, Length: 455, dtype: int64"
      ]
     },
     "execution_count": 37,
     "metadata": {},
     "output_type": "execute_result"
    }
   ],
   "source": [
    "Y_train"
   ]
  },
  {
   "cell_type": "code",
   "execution_count": 38,
   "id": "1c54a4cf",
   "metadata": {
    "execution": {
     "iopub.execute_input": "2024-05-09T13:57:36.065824Z",
     "iopub.status.busy": "2024-05-09T13:57:36.065386Z",
     "iopub.status.idle": "2024-05-09T13:57:36.074786Z",
     "shell.execute_reply": "2024-05-09T13:57:36.073570Z"
    },
    "papermill": {
     "duration": 0.060154,
     "end_time": "2024-05-09T13:57:36.077383",
     "exception": false,
     "start_time": "2024-05-09T13:57:36.017229",
     "status": "completed"
    },
    "tags": []
   },
   "outputs": [
    {
     "data": {
      "text/plain": [
       "465    0\n",
       "561    0\n",
       "35     1\n",
       "47     1\n",
       "141    1\n",
       "      ..\n",
       "143    0\n",
       "396    0\n",
       "442    0\n",
       "71     0\n",
       "437    0\n",
       "Name: diagnosis, Length: 114, dtype: int64"
      ]
     },
     "execution_count": 38,
     "metadata": {},
     "output_type": "execute_result"
    }
   ],
   "source": [
    "y_test"
   ]
  },
  {
   "cell_type": "markdown",
   "id": "9be6e808",
   "metadata": {
    "papermill": {
     "duration": 0.045586,
     "end_time": "2024-05-09T13:57:36.169557",
     "exception": false,
     "start_time": "2024-05-09T13:57:36.123971",
     "status": "completed"
    },
    "tags": []
   },
   "source": [
    "# Build the Model"
   ]
  },
  {
   "cell_type": "code",
   "execution_count": 39,
   "id": "302473d7",
   "metadata": {
    "execution": {
     "iopub.execute_input": "2024-05-09T13:57:36.263494Z",
     "iopub.status.busy": "2024-05-09T13:57:36.263070Z",
     "iopub.status.idle": "2024-05-09T13:57:36.277961Z",
     "shell.execute_reply": "2024-05-09T13:57:36.276776Z"
    },
    "papermill": {
     "duration": 0.065096,
     "end_time": "2024-05-09T13:57:36.280994",
     "exception": false,
     "start_time": "2024-05-09T13:57:36.215898",
     "status": "completed"
    },
    "tags": []
   },
   "outputs": [],
   "source": [
    "s = StandardScaler()\n",
    "X_train = s.fit_transform(X_train)\n",
    "x_test = s.fit_transform(x_test)"
   ]
  },
  {
   "cell_type": "code",
   "execution_count": 40,
   "id": "d99a7613",
   "metadata": {
    "execution": {
     "iopub.execute_input": "2024-05-09T13:57:36.375731Z",
     "iopub.status.busy": "2024-05-09T13:57:36.375298Z",
     "iopub.status.idle": "2024-05-09T13:57:36.383757Z",
     "shell.execute_reply": "2024-05-09T13:57:36.382548Z"
    },
    "papermill": {
     "duration": 0.059193,
     "end_time": "2024-05-09T13:57:36.386041",
     "exception": false,
     "start_time": "2024-05-09T13:57:36.326848",
     "status": "completed"
    },
    "tags": []
   },
   "outputs": [
    {
     "data": {
      "text/plain": [
       "array([[-0.22665476,  0.17349886, -0.18150322, ...,  0.43640252,\n",
       "        -0.02479085,  2.45803618],\n",
       "       [-0.82280976,  2.54050784, -0.87292265, ..., -1.84138206,\n",
       "        -2.1674429 , -1.39856006],\n",
       "       [ 0.79616017,  0.54750677,  0.8099581 , ...,  1.2018187 ,\n",
       "         3.35587517,  0.19913084],\n",
       "       ...,\n",
       "       [-0.06884903, -0.93827808, -0.1174829 , ..., -1.2854482 ,\n",
       "        -1.67659297, -0.86853431],\n",
       "       [-1.49845208, -1.23287335, -1.37996356, ..., -1.03803077,\n",
       "        -1.01486697,  1.49169088],\n",
       "       [ 0.00713151, -0.88960582, -0.0573038 , ..., -0.59036301,\n",
       "        -0.22582153, -0.62021285]])"
      ]
     },
     "execution_count": 40,
     "metadata": {},
     "output_type": "execute_result"
    }
   ],
   "source": [
    "x_test"
   ]
  },
  {
   "cell_type": "code",
   "execution_count": 41,
   "id": "d25a9c8d",
   "metadata": {
    "execution": {
     "iopub.execute_input": "2024-05-09T13:57:36.480370Z",
     "iopub.status.busy": "2024-05-09T13:57:36.479887Z",
     "iopub.status.idle": "2024-05-09T13:57:36.488015Z",
     "shell.execute_reply": "2024-05-09T13:57:36.486815Z"
    },
    "papermill": {
     "duration": 0.058412,
     "end_time": "2024-05-09T13:57:36.490640",
     "exception": false,
     "start_time": "2024-05-09T13:57:36.432228",
     "status": "completed"
    },
    "tags": []
   },
   "outputs": [
    {
     "data": {
      "text/plain": [
       "array([[-0.63904656,  0.43769321, -0.64504029, ..., -0.49515846,\n",
       "         0.26325243, -0.58507738],\n",
       "       [ 1.5218798 ,  2.16913875,  1.69189366, ...,  1.16709107,\n",
       "        -0.14932762,  0.89207126],\n",
       "       [-0.72932024, -0.04756719, -0.73449817, ..., -0.73360261,\n",
       "         0.19903764, -0.07445134],\n",
       "       ...,\n",
       "       [ 1.31312191,  0.16658529,  1.17311965, ...,  0.20227951,\n",
       "        -0.55227546, -1.46841117],\n",
       "       [-0.05508865, -0.50093253, -0.03068115, ...,  0.32157615,\n",
       "         0.25201484, -0.25341673],\n",
       "       [-1.1016992 , -0.69913748, -1.04821348, ..., -0.27431056,\n",
       "        -0.4864553 ,  0.70161267]])"
      ]
     },
     "execution_count": 41,
     "metadata": {},
     "output_type": "execute_result"
    }
   ],
   "source": [
    "X_train"
   ]
  },
  {
   "cell_type": "markdown",
   "id": "918749c8",
   "metadata": {
    "papermill": {
     "duration": 0.045597,
     "end_time": "2024-05-09T13:57:36.582191",
     "exception": false,
     "start_time": "2024-05-09T13:57:36.536594",
     "status": "completed"
    },
    "tags": []
   },
   "source": [
    "<h2>LogisticRegression<h2>"
   ]
  },
  {
   "cell_type": "code",
   "execution_count": 42,
   "id": "ab6fbbfe",
   "metadata": {
    "execution": {
     "iopub.execute_input": "2024-05-09T13:57:36.676055Z",
     "iopub.status.busy": "2024-05-09T13:57:36.675674Z",
     "iopub.status.idle": "2024-05-09T13:57:36.680747Z",
     "shell.execute_reply": "2024-05-09T13:57:36.679595Z"
    },
    "papermill": {
     "duration": 0.054888,
     "end_time": "2024-05-09T13:57:36.683263",
     "exception": false,
     "start_time": "2024-05-09T13:57:36.628375",
     "status": "completed"
    },
    "tags": []
   },
   "outputs": [],
   "source": [
    "lr = LogisticRegression()"
   ]
  },
  {
   "cell_type": "code",
   "execution_count": 43,
   "id": "ecfab364",
   "metadata": {
    "execution": {
     "iopub.execute_input": "2024-05-09T13:57:36.778181Z",
     "iopub.status.busy": "2024-05-09T13:57:36.777198Z",
     "iopub.status.idle": "2024-05-09T13:57:36.814386Z",
     "shell.execute_reply": "2024-05-09T13:57:36.813201Z"
    },
    "papermill": {
     "duration": 0.088545,
     "end_time": "2024-05-09T13:57:36.818530",
     "exception": false,
     "start_time": "2024-05-09T13:57:36.729985",
     "status": "completed"
    },
    "tags": []
   },
   "outputs": [
    {
     "data": {
      "text/plain": [
       "LogisticRegression()"
      ]
     },
     "execution_count": 43,
     "metadata": {},
     "output_type": "execute_result"
    }
   ],
   "source": [
    "lr.fit(X_train,Y_train)"
   ]
  },
  {
   "cell_type": "code",
   "execution_count": 44,
   "id": "fb49b9e4",
   "metadata": {
    "execution": {
     "iopub.execute_input": "2024-05-09T13:57:36.974865Z",
     "iopub.status.busy": "2024-05-09T13:57:36.974450Z",
     "iopub.status.idle": "2024-05-09T13:57:36.985350Z",
     "shell.execute_reply": "2024-05-09T13:57:36.984067Z"
    },
    "papermill": {
     "duration": 0.064014,
     "end_time": "2024-05-09T13:57:36.989194",
     "exception": false,
     "start_time": "2024-05-09T13:57:36.925180",
     "status": "completed"
    },
    "tags": []
   },
   "outputs": [
    {
     "name": "stdout",
     "output_type": "stream",
     "text": [
      "Accuracy on Training Dataset:  0.989010989010989\n"
     ]
    }
   ],
   "source": [
    "print(\"Accuracy on Training Dataset: \",lr.score(X_train,Y_train))"
   ]
  },
  {
   "cell_type": "code",
   "execution_count": 45,
   "id": "d1c33391",
   "metadata": {
    "execution": {
     "iopub.execute_input": "2024-05-09T13:57:37.144502Z",
     "iopub.status.busy": "2024-05-09T13:57:37.144073Z",
     "iopub.status.idle": "2024-05-09T13:57:37.153427Z",
     "shell.execute_reply": "2024-05-09T13:57:37.152172Z"
    },
    "papermill": {
     "duration": 0.065876,
     "end_time": "2024-05-09T13:57:37.156032",
     "exception": false,
     "start_time": "2024-05-09T13:57:37.090156",
     "status": "completed"
    },
    "tags": []
   },
   "outputs": [
    {
     "name": "stdout",
     "output_type": "stream",
     "text": [
      "Accuracy on Testing Dataset:  0.956140350877193\n"
     ]
    }
   ],
   "source": [
    "print(\"Accuracy on Testing Dataset: \",lr.score(x_test,y_test))"
   ]
  },
  {
   "cell_type": "code",
   "execution_count": 46,
   "id": "d69ed135",
   "metadata": {
    "execution": {
     "iopub.execute_input": "2024-05-09T13:57:37.256060Z",
     "iopub.status.busy": "2024-05-09T13:57:37.255675Z",
     "iopub.status.idle": "2024-05-09T13:57:37.263962Z",
     "shell.execute_reply": "2024-05-09T13:57:37.262778Z"
    },
    "papermill": {
     "duration": 0.060937,
     "end_time": "2024-05-09T13:57:37.266446",
     "exception": false,
     "start_time": "2024-05-09T13:57:37.205509",
     "status": "completed"
    },
    "tags": []
   },
   "outputs": [
    {
     "data": {
      "text/plain": [
       "array([0, 0, 1, 1, 1, 0, 0, 0, 1, 1, 0, 0, 0, 1, 1, 0, 0, 1, 0, 0, 1, 0,\n",
       "       1, 0, 1, 0, 0, 0, 1, 0, 0, 1, 0, 0, 0, 0, 0, 1, 0, 0, 0, 0, 0, 0,\n",
       "       1, 1, 1, 0, 0, 0, 0, 0, 0, 1, 1, 0, 1, 0, 1, 0, 0, 1, 0, 1, 1, 0,\n",
       "       1, 0, 1, 0, 0, 1, 0, 0, 0, 0, 0, 1, 0, 0, 0, 0, 1, 0, 0, 1, 0, 0,\n",
       "       1, 0, 1, 1, 1, 1, 0, 0, 1, 0, 0, 0, 0, 1, 0, 0, 1, 1, 0, 1, 0, 0,\n",
       "       0, 0, 0, 0])"
      ]
     },
     "execution_count": 46,
     "metadata": {},
     "output_type": "execute_result"
    }
   ],
   "source": [
    "y_pred = lr.predict(x_test)\n",
    "y_pred"
   ]
  },
  {
   "cell_type": "code",
   "execution_count": 47,
   "id": "74d668b7",
   "metadata": {
    "execution": {
     "iopub.execute_input": "2024-05-09T13:57:37.364131Z",
     "iopub.status.busy": "2024-05-09T13:57:37.363762Z",
     "iopub.status.idle": "2024-05-09T13:57:37.686564Z",
     "shell.execute_reply": "2024-05-09T13:57:37.685088Z"
    },
    "papermill": {
     "duration": 0.374583,
     "end_time": "2024-05-09T13:57:37.689001",
     "exception": false,
     "start_time": "2024-05-09T13:57:37.314418",
     "status": "completed"
    },
    "tags": []
   },
   "outputs": [
    {
     "data": {
      "text/plain": [
       "<AxesSubplot:>"
      ]
     },
     "execution_count": 47,
     "metadata": {},
     "output_type": "execute_result"
    },
    {
     "data": {
      "image/png": "[encoded data removed]",
      "text/plain": [
       "<Figure size 432x288 with 2 Axes>"
      ]
     },
     "metadata": {
      "needs_background": "light"
     },
     "output_type": "display_data"
    }
   ],
   "source": [
    "sns.heatmap(confusion_matrix(y_test,y_pred), annot=True, cmap='viridis', fmt=\".2f\")"
   ]
  },
  {
   "cell_type": "code",
   "execution_count": 48,
   "id": "d4377714",
   "metadata": {
    "execution": {
     "iopub.execute_input": "2024-05-09T13:57:37.787973Z",
     "iopub.status.busy": "2024-05-09T13:57:37.787581Z",
     "iopub.status.idle": "2024-05-09T13:57:37.803252Z",
     "shell.execute_reply": "2024-05-09T13:57:37.801799Z"
    },
    "papermill": {
     "duration": 0.068432,
     "end_time": "2024-05-09T13:57:37.805940",
     "exception": false,
     "start_time": "2024-05-09T13:57:37.737508",
     "status": "completed"
    },
    "tags": []
   },
   "outputs": [
    {
     "name": "stdout",
     "output_type": "stream",
     "text": [
      "              precision    recall  f1-score   support\n",
      "\n",
      "           0       0.97      0.96      0.97        75\n",
      "           1       0.93      0.95      0.94        39\n",
      "\n",
      "    accuracy                           0.96       114\n",
      "   macro avg       0.95      0.95      0.95       114\n",
      "weighted avg       0.96      0.96      0.96       114\n",
      "\n"
     ]
    }
   ],
   "source": [
    "print(classification_report(y_test,y_pred))"
   ]
  },
  {
   "cell_type": "markdown",
   "id": "997bff1e",
   "metadata": {
    "papermill": {
     "duration": 0.048658,
     "end_time": "2024-05-09T13:57:37.904836",
     "exception": false,
     "start_time": "2024-05-09T13:57:37.856178",
     "status": "completed"
    },
    "tags": []
   },
   "source": [
    "<h2>DecisionTreeClassifier<h2>"
   ]
  },
  {
   "cell_type": "code",
   "execution_count": 49,
   "id": "176b8b8f",
   "metadata": {
    "execution": {
     "iopub.execute_input": "2024-05-09T13:57:38.004918Z",
     "iopub.status.busy": "2024-05-09T13:57:38.003931Z",
     "iopub.status.idle": "2024-05-09T13:57:38.009092Z",
     "shell.execute_reply": "2024-05-09T13:57:38.008007Z"
    },
    "papermill": {
     "duration": 0.057655,
     "end_time": "2024-05-09T13:57:38.011540",
     "exception": false,
     "start_time": "2024-05-09T13:57:37.953885",
     "status": "completed"
    },
    "tags": []
   },
   "outputs": [],
   "source": [
    "DecisionTree = DecisionTreeClassifier()"
   ]
  },
  {
   "cell_type": "code",
   "execution_count": 50,
   "id": "347ce094",
   "metadata": {
    "execution": {
     "iopub.execute_input": "2024-05-09T13:57:38.111091Z",
     "iopub.status.busy": "2024-05-09T13:57:38.110088Z",
     "iopub.status.idle": "2024-05-09T13:57:38.128857Z",
     "shell.execute_reply": "2024-05-09T13:57:38.127607Z"
    },
    "papermill": {
     "duration": 0.071493,
     "end_time": "2024-05-09T13:57:38.131533",
     "exception": false,
     "start_time": "2024-05-09T13:57:38.060040",
     "status": "completed"
    },
    "tags": []
   },
   "outputs": [
    {
     "data": {
      "text/plain": [
       "DecisionTreeClassifier()"
      ]
     },
     "execution_count": 50,
     "metadata": {},
     "output_type": "execute_result"
    }
   ],
   "source": [
    "DecisionTree.fit(X_train,Y_train)"
   ]
  },
  {
   "cell_type": "code",
   "execution_count": 51,
   "id": "fee4bf36",
   "metadata": {
    "execution": {
     "iopub.execute_input": "2024-05-09T13:57:38.233293Z",
     "iopub.status.busy": "2024-05-09T13:57:38.232836Z",
     "iopub.status.idle": "2024-05-09T13:57:38.244071Z",
     "shell.execute_reply": "2024-05-09T13:57:38.242991Z"
    },
    "papermill": {
     "duration": 0.065563,
     "end_time": "2024-05-09T13:57:38.246700",
     "exception": false,
     "start_time": "2024-05-09T13:57:38.181137",
     "status": "completed"
    },
    "tags": []
   },
   "outputs": [
    {
     "name": "stdout",
     "output_type": "stream",
     "text": [
      "Accuracy on Training Dataset:  1.0\n"
     ]
    }
   ],
   "source": [
    "print(\"Accuracy on Training Dataset: \",DecisionTree.score(X_train,Y_train))"
   ]
  },
  {
   "cell_type": "code",
   "execution_count": 52,
   "id": "0b1acb4b",
   "metadata": {
    "execution": {
     "iopub.execute_input": "2024-05-09T13:57:38.346999Z",
     "iopub.status.busy": "2024-05-09T13:57:38.346569Z",
     "iopub.status.idle": "2024-05-09T13:57:38.355972Z",
     "shell.execute_reply": "2024-05-09T13:57:38.354906Z"
    },
    "papermill": {
     "duration": 0.061928,
     "end_time": "2024-05-09T13:57:38.358365",
     "exception": false,
     "start_time": "2024-05-09T13:57:38.296437",
     "status": "completed"
    },
    "tags": []
   },
   "outputs": [
    {
     "name": "stdout",
     "output_type": "stream",
     "text": [
      "Accuracy on Testing Dataset:  0.956140350877193\n"
     ]
    }
   ],
   "source": [
    "print(\"Accuracy on Testing Dataset: \",DecisionTree.score(x_test,y_test))"
   ]
  },
  {
   "cell_type": "code",
   "execution_count": 53,
   "id": "3b691d89",
   "metadata": {
    "execution": {
     "iopub.execute_input": "2024-05-09T13:57:38.459638Z",
     "iopub.status.busy": "2024-05-09T13:57:38.459164Z",
     "iopub.status.idle": "2024-05-09T13:57:38.467592Z",
     "shell.execute_reply": "2024-05-09T13:57:38.466462Z"
    },
    "papermill": {
     "duration": 0.061725,
     "end_time": "2024-05-09T13:57:38.470069",
     "exception": false,
     "start_time": "2024-05-09T13:57:38.408344",
     "status": "completed"
    },
    "tags": []
   },
   "outputs": [
    {
     "data": {
      "text/plain": [
       "array([1, 0, 1, 1, 1, 0, 0, 0, 1, 1, 0, 0, 0, 0, 1, 0, 0, 1, 0, 1, 1, 0,\n",
       "       1, 0, 1, 0, 0, 0, 1, 0, 0, 1, 0, 0, 0, 0, 0, 1, 0, 0, 0, 0, 0, 0,\n",
       "       1, 1, 1, 0, 0, 0, 0, 0, 0, 1, 1, 0, 1, 0, 1, 0, 0, 1, 1, 1, 1, 0,\n",
       "       1, 0, 1, 0, 0, 1, 0, 0, 0, 0, 0, 1, 0, 0, 0, 0, 1, 0, 0, 1, 0, 0,\n",
       "       1, 0, 1, 1, 1, 1, 0, 0, 1, 0, 0, 0, 0, 1, 0, 0, 1, 1, 0, 1, 0, 0,\n",
       "       0, 0, 0, 0])"
      ]
     },
     "execution_count": 53,
     "metadata": {},
     "output_type": "execute_result"
    }
   ],
   "source": [
    "y_pred = DecisionTree.predict(x_test)\n",
    "y_pred"
   ]
  },
  {
   "cell_type": "code",
   "execution_count": 54,
   "id": "5161878b",
   "metadata": {
    "execution": {
     "iopub.execute_input": "2024-05-09T13:57:38.570463Z",
     "iopub.status.busy": "2024-05-09T13:57:38.569626Z",
     "iopub.status.idle": "2024-05-09T13:57:38.967686Z",
     "shell.execute_reply": "2024-05-09T13:57:38.966536Z"
    },
    "papermill": {
     "duration": 0.450991,
     "end_time": "2024-05-09T13:57:38.970193",
     "exception": false,
     "start_time": "2024-05-09T13:57:38.519202",
     "status": "completed"
    },
    "tags": []
   },
   "outputs": [
    {
     "data": {
      "text/plain": [
       "<AxesSubplot:>"
      ]
     },
     "execution_count": 54,
     "metadata": {},
     "output_type": "execute_result"
    },
    {
     "data": {
      "image/png": "[encoded data removed]",
      "text/plain": [
       "<Figure size 432x288 with 2 Axes>"
      ]
     },
     "metadata": {
      "needs_background": "light"
     },
     "output_type": "display_data"
    }
   ],
   "source": [
    "sns.heatmap(confusion_matrix(y_test,y_pred), annot=True, cmap='viridis', fmt=\".2f\")"
   ]
  },
  {
   "cell_type": "code",
   "execution_count": 55,
   "id": "43497939",
   "metadata": {
    "execution": {
     "iopub.execute_input": "2024-05-09T13:57:39.072976Z",
     "iopub.status.busy": "2024-05-09T13:57:39.072552Z",
     "iopub.status.idle": "2024-05-09T13:57:39.088630Z",
     "shell.execute_reply": "2024-05-09T13:57:39.087369Z"
    },
    "papermill": {
     "duration": 0.070395,
     "end_time": "2024-05-09T13:57:39.091337",
     "exception": false,
     "start_time": "2024-05-09T13:57:39.020942",
     "status": "completed"
    },
    "tags": []
   },
   "outputs": [
    {
     "name": "stdout",
     "output_type": "stream",
     "text": [
      "              precision    recall  f1-score   support\n",
      "\n",
      "           0       0.99      0.95      0.97        75\n",
      "           1       0.90      0.97      0.94        39\n",
      "\n",
      "    accuracy                           0.96       114\n",
      "   macro avg       0.95      0.96      0.95       114\n",
      "weighted avg       0.96      0.96      0.96       114\n",
      "\n"
     ]
    }
   ],
   "source": [
    "print(classification_report(y_test,y_pred))"
   ]
  },
  {
   "cell_type": "markdown",
   "id": "72bf4d4c",
   "metadata": {
    "papermill": {
     "duration": 0.05009,
     "end_time": "2024-05-09T13:57:39.191331",
     "exception": false,
     "start_time": "2024-05-09T13:57:39.141241",
     "status": "completed"
    },
    "tags": []
   },
   "source": [
    "<h2>RandomForestClassifier<h2>"
   ]
  },
  {
   "cell_type": "code",
   "execution_count": 56,
   "id": "60a84913",
   "metadata": {
    "execution": {
     "iopub.execute_input": "2024-05-09T13:57:39.294321Z",
     "iopub.status.busy": "2024-05-09T13:57:39.293866Z",
     "iopub.status.idle": "2024-05-09T13:57:39.299193Z",
     "shell.execute_reply": "2024-05-09T13:57:39.298095Z"
    },
    "papermill": {
     "duration": 0.059652,
     "end_time": "2024-05-09T13:57:39.301597",
     "exception": false,
     "start_time": "2024-05-09T13:57:39.241945",
     "status": "completed"
    },
    "tags": []
   },
   "outputs": [],
   "source": [
    "RandomForest = RandomForestClassifier()"
   ]
  },
  {
   "cell_type": "code",
   "execution_count": 57,
   "id": "c6ae2d8d",
   "metadata": {
    "execution": {
     "iopub.execute_input": "2024-05-09T13:57:39.404509Z",
     "iopub.status.busy": "2024-05-09T13:57:39.403658Z",
     "iopub.status.idle": "2024-05-09T13:57:39.713357Z",
     "shell.execute_reply": "2024-05-09T13:57:39.712309Z"
    },
    "papermill": {
     "duration": 0.36405,
     "end_time": "2024-05-09T13:57:39.716027",
     "exception": false,
     "start_time": "2024-05-09T13:57:39.351977",
     "status": "completed"
    },
    "tags": []
   },
   "outputs": [
    {
     "data": {
      "text/plain": [
       "RandomForestClassifier()"
      ]
     },
     "execution_count": 57,
     "metadata": {},
     "output_type": "execute_result"
    }
   ],
   "source": [
    "RandomForest.fit(X_train,Y_train)"
   ]
  },
  {
   "cell_type": "code",
   "execution_count": 58,
   "id": "2e41d641",
   "metadata": {
    "execution": {
     "iopub.execute_input": "2024-05-09T13:57:39.817600Z",
     "iopub.status.busy": "2024-05-09T13:57:39.817166Z",
     "iopub.status.idle": "2024-05-09T13:57:39.839104Z",
     "shell.execute_reply": "2024-05-09T13:57:39.837985Z"
    },
    "papermill": {
     "duration": 0.075667,
     "end_time": "2024-05-09T13:57:39.841466",
     "exception": false,
     "start_time": "2024-05-09T13:57:39.765799",
     "status": "completed"
    },
    "tags": []
   },
   "outputs": [
    {
     "name": "stdout",
     "output_type": "stream",
     "text": [
      "Accuracy on Training Dataset:  1.0\n"
     ]
    }
   ],
   "source": [
    "print(\"Accuracy on Training Dataset: \",RandomForest.score(X_train,Y_train))"
   ]
  },
  {
   "cell_type": "code",
   "execution_count": 59,
   "id": "2bf94b25",
   "metadata": {
    "execution": {
     "iopub.execute_input": "2024-05-09T13:57:39.946757Z",
     "iopub.status.busy": "2024-05-09T13:57:39.946342Z",
     "iopub.status.idle": "2024-05-09T13:57:39.963974Z",
     "shell.execute_reply": "2024-05-09T13:57:39.962747Z"
    },
    "papermill": {
     "duration": 0.072954,
     "end_time": "2024-05-09T13:57:39.966566",
     "exception": false,
     "start_time": "2024-05-09T13:57:39.893612",
     "status": "completed"
    },
    "tags": []
   },
   "outputs": [
    {
     "name": "stdout",
     "output_type": "stream",
     "text": [
      "Accuracy on Testing Dataset:  0.9736842105263158\n"
     ]
    }
   ],
   "source": [
    "print(\"Accuracy on Testing Dataset: \",RandomForest.score(x_test,y_test))"
   ]
  },
  {
   "cell_type": "code",
   "execution_count": 60,
   "id": "b103dcdd",
   "metadata": {
    "execution": {
     "iopub.execute_input": "2024-05-09T13:57:40.073491Z",
     "iopub.status.busy": "2024-05-09T13:57:40.073026Z",
     "iopub.status.idle": "2024-05-09T13:57:40.090365Z",
     "shell.execute_reply": "2024-05-09T13:57:40.089172Z"
    },
    "papermill": {
     "duration": 0.075744,
     "end_time": "2024-05-09T13:57:40.092943",
     "exception": false,
     "start_time": "2024-05-09T13:57:40.017199",
     "status": "completed"
    },
    "tags": []
   },
   "outputs": [
    {
     "data": {
      "text/plain": [
       "array([1, 0, 1, 1, 1, 0, 0, 0, 1, 1, 0, 0, 0, 0, 1, 0, 0, 1, 0, 1, 1, 0,\n",
       "       1, 0, 1, 0, 0, 0, 1, 0, 0, 1, 0, 0, 0, 0, 0, 1, 0, 0, 0, 0, 0, 0,\n",
       "       1, 1, 1, 0, 0, 0, 0, 0, 0, 1, 1, 0, 1, 0, 1, 0, 0, 1, 0, 1, 1, 0,\n",
       "       1, 0, 1, 0, 0, 1, 0, 0, 0, 0, 0, 1, 0, 0, 0, 0, 1, 0, 0, 1, 0, 0,\n",
       "       1, 0, 1, 1, 1, 0, 0, 0, 1, 0, 0, 0, 0, 1, 0, 0, 1, 1, 0, 1, 0, 0,\n",
       "       0, 0, 0, 0])"
      ]
     },
     "execution_count": 60,
     "metadata": {},
     "output_type": "execute_result"
    }
   ],
   "source": [
    "y_pred = RandomForest.predict(x_test)\n",
    "y_pred"
   ]
  },
  {
   "cell_type": "code",
   "execution_count": 61,
   "id": "1875f2d3",
   "metadata": {
    "execution": {
     "iopub.execute_input": "2024-05-09T13:57:40.196490Z",
     "iopub.status.busy": "2024-05-09T13:57:40.196060Z",
     "iopub.status.idle": "2024-05-09T13:57:40.492239Z",
     "shell.execute_reply": "2024-05-09T13:57:40.491075Z"
    },
    "papermill": {
     "duration": 0.351118,
     "end_time": "2024-05-09T13:57:40.494811",
     "exception": false,
     "start_time": "2024-05-09T13:57:40.143693",
     "status": "completed"
    },
    "tags": []
   },
   "outputs": [
    {
     "data": {
      "text/plain": [
       "<AxesSubplot:>"
      ]
     },
     "execution_count": 61,
     "metadata": {},
     "output_type": "execute_result"
    },
    {
     "data": {
      "image/png": "[encoded data removed]",
      "text/plain": [
       "<Figure size 432x288 with 2 Axes>"
      ]
     },
     "metadata": {
      "needs_background": "light"
     },
     "output_type": "display_data"
    }
   ],
   "source": [
    "sns.heatmap(confusion_matrix(y_test,y_pred), annot=True, cmap='viridis', fmt=\".2f\")"
   ]
  },
  {
   "cell_type": "code",
   "execution_count": 62,
   "id": "58172323",
   "metadata": {
    "execution": {
     "iopub.execute_input": "2024-05-09T13:57:40.599770Z",
     "iopub.status.busy": "2024-05-09T13:57:40.599340Z",
     "iopub.status.idle": "2024-05-09T13:57:40.614937Z",
     "shell.execute_reply": "2024-05-09T13:57:40.613586Z"
    },
    "papermill": {
     "duration": 0.070938,
     "end_time": "2024-05-09T13:57:40.617398",
     "exception": false,
     "start_time": "2024-05-09T13:57:40.546460",
     "status": "completed"
    },
    "tags": []
   },
   "outputs": [
    {
     "name": "stdout",
     "output_type": "stream",
     "text": [
      "              precision    recall  f1-score   support\n",
      "\n",
      "           0       0.99      0.97      0.98        75\n",
      "           1       0.95      0.97      0.96        39\n",
      "\n",
      "    accuracy                           0.97       114\n",
      "   macro avg       0.97      0.97      0.97       114\n",
      "weighted avg       0.97      0.97      0.97       114\n",
      "\n"
     ]
    }
   ],
   "source": [
    "print(classification_report(y_test,y_pred))"
   ]
  },
  {
   "cell_type": "markdown",
   "id": "e2089193",
   "metadata": {
    "papermill": {
     "duration": 0.050762,
     "end_time": "2024-05-09T13:57:40.719628",
     "exception": false,
     "start_time": "2024-05-09T13:57:40.668866",
     "status": "completed"
    },
    "tags": []
   },
   "source": [
    "<h2>SVC<h2>"
   ]
  },
  {
   "cell_type": "code",
   "execution_count": 63,
   "id": "286d7221",
   "metadata": {
    "execution": {
     "iopub.execute_input": "2024-05-09T13:57:40.827255Z",
     "iopub.status.busy": "2024-05-09T13:57:40.826798Z",
     "iopub.status.idle": "2024-05-09T13:57:40.832204Z",
     "shell.execute_reply": "2024-05-09T13:57:40.830995Z"
    },
    "papermill": {
     "duration": 0.061689,
     "end_time": "2024-05-09T13:57:40.835240",
     "exception": false,
     "start_time": "2024-05-09T13:57:40.773551",
     "status": "completed"
    },
    "tags": []
   },
   "outputs": [],
   "source": [
    "svc = SVC()"
   ]
  },
  {
   "cell_type": "code",
   "execution_count": 64,
   "id": "a66ad15a",
   "metadata": {
    "execution": {
     "iopub.execute_input": "2024-05-09T13:57:40.955779Z",
     "iopub.status.busy": "2024-05-09T13:57:40.954808Z",
     "iopub.status.idle": "2024-05-09T13:57:40.975642Z",
     "shell.execute_reply": "2024-05-09T13:57:40.974376Z"
    },
    "papermill": {
     "duration": 0.090949,
     "end_time": "2024-05-09T13:57:40.978922",
     "exception": false,
     "start_time": "2024-05-09T13:57:40.887973",
     "status": "completed"
    },
    "tags": []
   },
   "outputs": [
    {
     "data": {
      "text/plain": [
       "SVC()"
      ]
     },
     "execution_count": 64,
     "metadata": {},
     "output_type": "execute_result"
    }
   ],
   "source": [
    "svc.fit(X_train,Y_train)"
   ]
  },
  {
   "cell_type": "code",
   "execution_count": 65,
   "id": "b7ec27ab",
   "metadata": {
    "execution": {
     "iopub.execute_input": "2024-05-09T13:57:41.087935Z",
     "iopub.status.busy": "2024-05-09T13:57:41.087546Z",
     "iopub.status.idle": "2024-05-09T13:57:41.101599Z",
     "shell.execute_reply": "2024-05-09T13:57:41.100400Z"
    },
    "papermill": {
     "duration": 0.070057,
     "end_time": "2024-05-09T13:57:41.104296",
     "exception": false,
     "start_time": "2024-05-09T13:57:41.034239",
     "status": "completed"
    },
    "tags": []
   },
   "outputs": [
    {
     "name": "stdout",
     "output_type": "stream",
     "text": [
      "Accuracy on Training Dataset:  0.9846153846153847\n"
     ]
    }
   ],
   "source": [
    "print(\"Accuracy on Training Dataset: \",svc.score(X_train,Y_train))"
   ]
  },
  {
   "cell_type": "code",
   "execution_count": 66,
   "id": "6f6330e2",
   "metadata": {
    "execution": {
     "iopub.execute_input": "2024-05-09T13:57:41.209872Z",
     "iopub.status.busy": "2024-05-09T13:57:41.209460Z",
     "iopub.status.idle": "2024-05-09T13:57:41.218880Z",
     "shell.execute_reply": "2024-05-09T13:57:41.217611Z"
    },
    "papermill": {
     "duration": 0.065202,
     "end_time": "2024-05-09T13:57:41.221541",
     "exception": false,
     "start_time": "2024-05-09T13:57:41.156339",
     "status": "completed"
    },
    "tags": []
   },
   "outputs": [
    {
     "name": "stdout",
     "output_type": "stream",
     "text": [
      "Accuracy on Testing Dataset:  0.9385964912280702\n"
     ]
    }
   ],
   "source": [
    "print(\"Accuracy on Testing Dataset: \",svc.score(x_test,y_test))"
   ]
  },
  {
   "cell_type": "code",
   "execution_count": 67,
   "id": "cef7e5be",
   "metadata": {
    "execution": {
     "iopub.execute_input": "2024-05-09T13:57:41.326980Z",
     "iopub.status.busy": "2024-05-09T13:57:41.326524Z",
     "iopub.status.idle": "2024-05-09T13:57:41.335388Z",
     "shell.execute_reply": "2024-05-09T13:57:41.334182Z"
    },
    "papermill": {
     "duration": 0.064313,
     "end_time": "2024-05-09T13:57:41.337852",
     "exception": false,
     "start_time": "2024-05-09T13:57:41.273539",
     "status": "completed"
    },
    "tags": []
   },
   "outputs": [
    {
     "data": {
      "text/plain": [
       "array([0, 0, 1, 1, 1, 0, 0, 1, 1, 1, 0, 1, 0, 1, 1, 0, 0, 1, 0, 0, 1, 0,\n",
       "       1, 0, 1, 0, 0, 0, 1, 0, 0, 1, 0, 0, 0, 0, 0, 1, 0, 1, 0, 0, 0, 0,\n",
       "       1, 1, 1, 0, 0, 0, 0, 0, 0, 1, 1, 0, 1, 0, 1, 0, 0, 1, 0, 1, 1, 0,\n",
       "       1, 0, 1, 0, 0, 1, 0, 0, 0, 0, 0, 1, 0, 0, 0, 0, 1, 0, 0, 1, 0, 0,\n",
       "       1, 0, 1, 1, 1, 0, 0, 0, 1, 0, 0, 0, 0, 1, 0, 0, 1, 1, 0, 1, 0, 0,\n",
       "       0, 0, 0, 0])"
      ]
     },
     "execution_count": 67,
     "metadata": {},
     "output_type": "execute_result"
    }
   ],
   "source": [
    "y_pred = svc.predict(x_test)\n",
    "y_pred"
   ]
  },
  {
   "cell_type": "code",
   "execution_count": 68,
   "id": "8ff007ec",
   "metadata": {
    "execution": {
     "iopub.execute_input": "2024-05-09T13:57:41.445769Z",
     "iopub.status.busy": "2024-05-09T13:57:41.445330Z",
     "iopub.status.idle": "2024-05-09T13:57:41.762598Z",
     "shell.execute_reply": "2024-05-09T13:57:41.761437Z"
    },
    "papermill": {
     "duration": 0.374423,
     "end_time": "2024-05-09T13:57:41.765122",
     "exception": false,
     "start_time": "2024-05-09T13:57:41.390699",
     "status": "completed"
    },
    "tags": []
   },
   "outputs": [
    {
     "data": {
      "text/plain": [
       "<AxesSubplot:>"
      ]
     },
     "execution_count": 68,
     "metadata": {},
     "output_type": "execute_result"
    },
    {
     "data": {
      "image/png": "[encoded data removed]",
      "text/plain": [
       "<Figure size 432x288 with 2 Axes>"
      ]
     },
     "metadata": {
      "needs_background": "light"
     },
     "output_type": "display_data"
    }
   ],
   "source": [
    "sns.heatmap(confusion_matrix(y_test,y_pred), annot=True, cmap='viridis', fmt=\".2f\")"
   ]
  },
  {
   "cell_type": "code",
   "execution_count": 69,
   "id": "fa8b0ac5",
   "metadata": {
    "execution": {
     "iopub.execute_input": "2024-05-09T13:57:41.873146Z",
     "iopub.status.busy": "2024-05-09T13:57:41.872758Z",
     "iopub.status.idle": "2024-05-09T13:57:41.888682Z",
     "shell.execute_reply": "2024-05-09T13:57:41.887305Z"
    },
    "papermill": {
     "duration": 0.07385,
     "end_time": "2024-05-09T13:57:41.891431",
     "exception": false,
     "start_time": "2024-05-09T13:57:41.817581",
     "status": "completed"
    },
    "tags": []
   },
   "outputs": [
    {
     "name": "stdout",
     "output_type": "stream",
     "text": [
      "              precision    recall  f1-score   support\n",
      "\n",
      "           0       0.97      0.93      0.95        75\n",
      "           1       0.88      0.95      0.91        39\n",
      "\n",
      "    accuracy                           0.94       114\n",
      "   macro avg       0.93      0.94      0.93       114\n",
      "weighted avg       0.94      0.94      0.94       114\n",
      "\n"
     ]
    }
   ],
   "source": [
    "print(classification_report(y_test,y_pred))"
   ]
  },
  {
   "cell_type": "markdown",
   "id": "849bc064",
   "metadata": {
    "papermill": {
     "duration": 0.053305,
     "end_time": "2024-05-09T13:57:41.997722",
     "exception": false,
     "start_time": "2024-05-09T13:57:41.944417",
     "status": "completed"
    },
    "tags": []
   },
   "source": [
    "<h2>XGBClassifier<h2>"
   ]
  },
  {
   "cell_type": "code",
   "execution_count": 70,
   "id": "5cf5e70b",
   "metadata": {
    "execution": {
     "iopub.execute_input": "2024-05-09T13:57:42.105743Z",
     "iopub.status.busy": "2024-05-09T13:57:42.105351Z",
     "iopub.status.idle": "2024-05-09T13:57:42.110638Z",
     "shell.execute_reply": "2024-05-09T13:57:42.109291Z"
    },
    "papermill": {
     "duration": 0.062153,
     "end_time": "2024-05-09T13:57:42.113042",
     "exception": false,
     "start_time": "2024-05-09T13:57:42.050889",
     "status": "completed"
    },
    "tags": []
   },
   "outputs": [],
   "source": [
    "xgb = XGBClassifier()"
   ]
  },
  {
   "cell_type": "code",
   "execution_count": 71,
   "id": "23c02981",
   "metadata": {
    "execution": {
     "iopub.execute_input": "2024-05-09T13:57:42.221487Z",
     "iopub.status.busy": "2024-05-09T13:57:42.220607Z",
     "iopub.status.idle": "2024-05-09T13:57:42.347591Z",
     "shell.execute_reply": "2024-05-09T13:57:42.346600Z"
    },
    "papermill": {
     "duration": 0.184824,
     "end_time": "2024-05-09T13:57:42.350362",
     "exception": false,
     "start_time": "2024-05-09T13:57:42.165538",
     "status": "completed"
    },
    "tags": []
   },
   "outputs": [
    {
     "data": {
      "text/plain": [
       "XGBClassifier(base_score=None, booster=None, callbacks=None,\n",
       "              colsample_bylevel=None, colsample_bynode=None,\n",
       "              colsample_bytree=None, device=None, early_stopping_rounds=None,\n",
       "              enable_categorical=False, eval_metric=None, feature_types=None,\n",
       "              gamma=None, grow_policy=None, importance_type=None,\n",
       "              interaction_constraints=None, learning_rate=None, max_bin=None,\n",
       "              max_cat_threshold=None, max_cat_to_onehot=None,\n",
       "              max_delta_step=None, max_depth=None, max_leaves=None,\n",
       "              min_child_weight=None, missing=nan, monotone_constraints=None,\n",
       "              multi_strategy=None, n_estimators=None, n_jobs=None,\n",
       "              num_parallel_tree=None, random_state=None, ...)"
      ]
     },
     "execution_count": 71,
     "metadata": {},
     "output_type": "execute_result"
    }
   ],
   "source": [
    "xgb.fit(X_train,Y_train)"
   ]
  },
  {
   "cell_type": "code",
   "execution_count": 72,
   "id": "54f44359",
   "metadata": {
    "execution": {
     "iopub.execute_input": "2024-05-09T13:57:42.458691Z",
     "iopub.status.busy": "2024-05-09T13:57:42.458273Z",
     "iopub.status.idle": "2024-05-09T13:57:42.472389Z",
     "shell.execute_reply": "2024-05-09T13:57:42.471326Z"
    },
    "papermill": {
     "duration": 0.071613,
     "end_time": "2024-05-09T13:57:42.475092",
     "exception": false,
     "start_time": "2024-05-09T13:57:42.403479",
     "status": "completed"
    },
    "tags": []
   },
   "outputs": [
    {
     "name": "stdout",
     "output_type": "stream",
     "text": [
      "Accuracy on Training Dataset:  1.0\n"
     ]
    }
   ],
   "source": [
    "print(\"Accuracy on Training Dataset: \",xgb.score(X_train,Y_train))"
   ]
  },
  {
   "cell_type": "code",
   "execution_count": 73,
   "id": "1eaaea17",
   "metadata": {
    "execution": {
     "iopub.execute_input": "2024-05-09T13:57:42.585630Z",
     "iopub.status.busy": "2024-05-09T13:57:42.584746Z",
     "iopub.status.idle": "2024-05-09T13:57:42.608614Z",
     "shell.execute_reply": "2024-05-09T13:57:42.607676Z"
    },
    "papermill": {
     "duration": 0.081706,
     "end_time": "2024-05-09T13:57:42.611235",
     "exception": false,
     "start_time": "2024-05-09T13:57:42.529529",
     "status": "completed"
    },
    "tags": []
   },
   "outputs": [
    {
     "name": "stdout",
     "output_type": "stream",
     "text": [
      "Accuracy on Testing Dataset:  0.9649122807017544\n"
     ]
    }
   ],
   "source": [
    "print(\"Accuracy on Testing Dataset: \",xgb.score(x_test,y_test))"
   ]
  },
  {
   "cell_type": "code",
   "execution_count": 74,
   "id": "59bab86c",
   "metadata": {
    "execution": {
     "iopub.execute_input": "2024-05-09T13:57:42.719947Z",
     "iopub.status.busy": "2024-05-09T13:57:42.719505Z",
     "iopub.status.idle": "2024-05-09T13:57:42.734332Z",
     "shell.execute_reply": "2024-05-09T13:57:42.733190Z"
    },
    "papermill": {
     "duration": 0.07383,
     "end_time": "2024-05-09T13:57:42.738185",
     "exception": false,
     "start_time": "2024-05-09T13:57:42.664355",
     "status": "completed"
    },
    "tags": []
   },
   "outputs": [
    {
     "data": {
      "text/plain": [
       "array([0, 0, 1, 1, 1, 0, 0, 0, 1, 1, 0, 0, 0, 0, 1, 0, 0, 1, 0, 0, 1, 0,\n",
       "       1, 0, 1, 0, 0, 0, 1, 0, 0, 1, 0, 0, 0, 0, 0, 1, 0, 0, 0, 0, 0, 0,\n",
       "       1, 1, 1, 0, 0, 0, 0, 0, 0, 1, 1, 0, 1, 0, 1, 0, 0, 1, 0, 1, 1, 0,\n",
       "       1, 0, 1, 0, 0, 1, 0, 0, 0, 0, 0, 1, 0, 0, 0, 0, 1, 0, 0, 1, 0, 0,\n",
       "       1, 0, 1, 1, 1, 0, 0, 0, 1, 0, 0, 0, 0, 1, 0, 0, 1, 1, 0, 1, 0, 0,\n",
       "       1, 0, 0, 0])"
      ]
     },
     "execution_count": 74,
     "metadata": {},
     "output_type": "execute_result"
    }
   ],
   "source": [
    "y_pred = xgb.predict(x_test)\n",
    "y_pred"
   ]
  },
  {
   "cell_type": "code",
   "execution_count": 75,
   "id": "52d3d7e5",
   "metadata": {
    "execution": {
     "iopub.execute_input": "2024-05-09T13:57:42.851134Z",
     "iopub.status.busy": "2024-05-09T13:57:42.850078Z",
     "iopub.status.idle": "2024-05-09T13:57:43.114889Z",
     "shell.execute_reply": "2024-05-09T13:57:43.113510Z"
    },
    "papermill": {
     "duration": 0.324496,
     "end_time": "2024-05-09T13:57:43.117928",
     "exception": false,
     "start_time": "2024-05-09T13:57:42.793432",
     "status": "completed"
    },
    "tags": []
   },
   "outputs": [
    {
     "data": {
      "text/plain": [
       "<AxesSubplot:>"
      ]
     },
     "execution_count": 75,
     "metadata": {},
     "output_type": "execute_result"
    },
    {
     "data": {
      "image/png": "[encoded data removed]",
      "text/plain": [
       "<Figure size 432x288 with 2 Axes>"
      ]
     },
     "metadata": {
      "needs_background": "light"
     },
     "output_type": "display_data"
    }
   ],
   "source": [
    "sns.heatmap(confusion_matrix(y_test,y_pred), annot=True, cmap='viridis', fmt=\".2f\")"
   ]
  },
  {
   "cell_type": "code",
   "execution_count": 76,
   "id": "af724d04",
   "metadata": {
    "execution": {
     "iopub.execute_input": "2024-05-09T13:57:43.229560Z",
     "iopub.status.busy": "2024-05-09T13:57:43.228433Z",
     "iopub.status.idle": "2024-05-09T13:57:43.244517Z",
     "shell.execute_reply": "2024-05-09T13:57:43.243260Z"
    },
    "papermill": {
     "duration": 0.074988,
     "end_time": "2024-05-09T13:57:43.247176",
     "exception": false,
     "start_time": "2024-05-09T13:57:43.172188",
     "status": "completed"
    },
    "tags": []
   },
   "outputs": [
    {
     "name": "stdout",
     "output_type": "stream",
     "text": [
      "              precision    recall  f1-score   support\n",
      "\n",
      "           0       0.97      0.97      0.97        75\n",
      "           1       0.95      0.95      0.95        39\n",
      "\n",
      "    accuracy                           0.96       114\n",
      "   macro avg       0.96      0.96      0.96       114\n",
      "weighted avg       0.96      0.96      0.96       114\n",
      "\n"
     ]
    }
   ],
   "source": [
    "print(classification_report(y_test,y_pred))"
   ]
  },
  {
   "cell_type": "code",
   "execution_count": null,
   "id": "6b2a2a8f",
   "metadata": {},
   "outputs": [],
   "source": []
  },
  {
   "cell_type": "code",
   "execution_count": 77,
   "id": "3fba5557",
   "metadata": {},
   "outputs": [
    {
     "name": "stdout",
     "output_type": "stream",
     "text": [
      "Prediction is :  [1]\n",
      "\n",
      "The Breast Cancer is Benign\n"
     ]
    }
   ],
   "source": [
    "input_data = (13.54,14.36,87.46,566.3,0.09779,0.08129,0.06664,0.04781,0.1885,0.05766,0.2699,0.7886,2.058,23.56,0.008462,0.0146,0.02387,0.01315,0.0198,0.0023,15.11,19.26,99.7,711.2,0.144,0.1773,0.239,0.1288,0.2977,0.07259)\n",
    "\n",
    "# change the input data to a numpy array\n",
    "input_data_as_numpy_array = np.asarray(input_data)\n",
    "\n",
    "# reshape the numpy array as we are predicting for one datapoint\n",
    "input_data_reshaped = input_data_as_numpy_array.reshape(1,-1)\n",
    "\n",
    "prediction = RandomForest.predict(input_data_reshaped)\n",
    "print(\"Prediction is : \",prediction)\n",
    "print(\"\")\n",
    "\n",
    "\n",
    "if (prediction[0] == 0):\n",
    "  print('The Breast cancer is Malignant')\n",
    "\n",
    "else:\n",
    "  print('The Breast Cancer is Benign')\n"
   ]
  },
  {
   "cell_type": "markdown",
   "id": "2ef5c96c",
   "metadata": {},
   "source": [
    "### Model Saving"
   ]
  },
  {
   "cell_type": "code",
   "execution_count": 78,
   "id": "c9966c00",
   "metadata": {},
   "outputs": [],
   "source": [
    "import pickle\n",
    "\n",
    "# Save the model to a file\n",
    "with open('Breast_Cancer_Classification.pkl', 'wb') as file:\n",
    "    pickle.dump(RandomForest, file)\n"
   ]
  },
  {
   "cell_type": "code",
   "execution_count": null,
   "id": "5d0fbfac",
   "metadata": {},
   "outputs": [],
   "source": []
  },
  {
   "cell_type": "code",
   "execution_count": null,
   "id": "a56b8c17",
   "metadata": {},
   "outputs": [],
   "source": []
  },
  {
   "cell_type": "code",
   "execution_count": null,
   "id": "903e2d83",
   "metadata": {},
   "outputs": [],
   "source": []
  },
  {
   "cell_type": "code",
   "execution_count": null,
   "id": "c0638d86",
   "metadata": {},
   "outputs": [],
   "source": []
  }
 ],
 "metadata": {
  "kaggle": {
   "accelerator": "none",
   "dataSources": [
    {
     "datasetId": 180,
     "sourceId": 408,
     "sourceType": "datasetVersion"
    }
   ],
   "dockerImageVersionId": 30698,
   "isGpuEnabled": false,
   "isInternetEnabled": true,
   "language": "python",
   "sourceType": "notebook"
  },
  "kernelspec": {
   "display_name": "Python 3 (ipykernel)",
   "language": "python",
   "name": "python3"
  },
  "language_info": {
   "codemirror_mode": {
    "name": "ipython",
    "version": 3
   },
   "file_extension": ".py",
   "mimetype": "text/x-python",
   "name": "python",
   "nbconvert_exporter": "python",
   "pygments_lexer": "ipython3",
   "version": "3.9.12"
  },
  "papermill": {
   "default_parameters": {},
   "duration": 22.757428,
   "end_time": "2024-05-09T13:57:44.026023",
   "environment_variables": {},
   "exception": null,
   "input_path": "__notebook__.ipynb",
   "output_path": "__notebook__.ipynb",
   "parameters": {},
   "start_time": "2024-05-09T13:57:21.268595",
   "version": "2.5.0"
  }
 },
 "nbformat": 4,
 "nbformat_minor": 5
}
